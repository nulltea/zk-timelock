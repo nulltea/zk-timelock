{
 "cells": [
  {
   "cell_type": "code",
   "execution_count": 1,
   "id": "01f35ca5",
   "metadata": {
    "pycharm": {
     "name": "#%%\n"
    }
   },
   "outputs": [],
   "source": [
    "q = 295503600487609209767477276582588192105838003373473978531922424331997272227126585860738635311959902166624630668339343937124104260142837220124289171398586835023155899460519637016554145228170293071644222198789815853233238109957089390351099654092925617"
   ]
  },
  {
   "cell_type": "code",
   "execution_count": 2,
   "id": "f606f731",
   "metadata": {
    "pycharm": {
     "name": "#%%\n"
    }
   },
   "outputs": [],
   "source": [
    "F = GF(q)"
   ]
  },
  {
   "cell_type": "code",
   "execution_count": 3,
   "id": "a03e885c",
   "metadata": {
    "pycharm": {
     "name": "#%%\n"
    }
   },
   "outputs": [],
   "source": [
    "K3.<x> = PolynomialRing(F)"
   ]
  },
  {
   "cell_type": "code",
   "execution_count": 5,
   "id": "a2aaccd7",
   "metadata": {},
   "outputs": [
    {
     "data": {
      "text/plain": [
       "5"
      ]
     },
     "execution_count": 5,
     "metadata": {},
     "output_type": "execute_result"
    }
   ],
   "source": [
    "nqr = 0;\n",
    "for n in range(20):\n",
    "        try:\n",
    "            K.<a> = GF(q**3, name='a', modulus=x ^ 3 - n)\n",
    "            F3.<u> = F.extension(x ^ 3 - n)\n",
    "            if not u.is_square():\n",
    "                nqr = Integer(n)\n",
    "                break\n",
    "        except:\n",
    "            pass\n",
    "nqr"
   ]
  },
  {
   "cell_type": "code",
   "execution_count": 14,
   "id": "7f899a15",
   "metadata": {
    "pycharm": {
     "name": "#%%\n"
    }
   },
   "outputs": [
    {
     "data": {
      "text/plain": [
       "1612754817057917093462328822517320174233268770479340127181768486371278793969001006506460768943894198597436446384449361672678124201695438221144906830834100344097751448916980382591644427093432310545056934148036474828649959615418610175468103434369967642513245248225410296649498574378774240746139376673807391366669211613370904402064990095838232231209328318085417752421334360889770792408633764656445233971081009557493456588094949123376521836289941199726037309167902944249353894869053186822278912641261664300538159761792951202488444096960518578831037138531295743741799446089431526527915404672227045066307093064380833557286902525751288656295741182692004613082311767971489351082045316702034060160790319209408566151138556376925540137767076062001980366257"
      ]
     },
     "execution_count": 14,
     "metadata": {},
     "output_type": "execute_result"
    }
   ],
   "source": [
    "t = (q^3 - 1) // pow(2, 4)\n",
    "t"
   ]
  },
  {
   "cell_type": "code",
   "execution_count": 15,
   "id": "1179b29c",
   "metadata": {
    "pycharm": {
     "name": "#%%\n"
    }
   },
   "outputs": [
    {
     "data": {
      "text/plain": [
       "806377408528958605822278049571032387667720546431937802165683886747415998722192179506760466244113898346706088739265019705483171194069981996769311766149429478056179543416813607916733004011195996473806534681310544798405932646540082418662501299570626026504920927651585198399629625606957060198219034238977605613748497743926491859490066254745080954472269844328903131862447434288463657069348811904564882666837031402372854291822283760346869855629665264166940145003832814563417707205854406562380801589857856530277973545619548178778608426517103227971527591577146385435279888455474882434277462455022405279868581291704867125526570709542616616089754193600537752298417032671829816129846696197632491748829450663004560883276190623660116709817240247363988094976"
      ]
     },
     "execution_count": 15,
     "metadata": {},
     "output_type": "execute_result"
    }
   ],
   "source": [
    "Integer(((t - 1)//2).n())"
   ]
  },
  {
   "cell_type": "code",
   "execution_count": 18,
   "id": "c55956ef",
   "metadata": {
    "pycharm": {
     "name": "#%%\n"
    }
   },
   "outputs": [
    {
     "name": "stdout",
     "output_type": "stream",
     "text": [
      "0xd553222db696eed8,\n",
      "0x1a6f9ca5812c9ea3,\n",
      "0x156e43b71903401b,\n",
      "0x419116246b33c8e7,\n",
      "0xb6fe229638da9f40,\n",
      "0x9712d80009779be0,\n",
      "0xa787b67d0c793bba,\n",
      "0x0f379cc0f5e5a0e0,\n",
      "0x12635474ec6d2b0a,\n",
      "0xc4787f2080a98464,\n",
      "0x0561d8a482ba6f6d,\n",
      "0xeff3a2adafc7597c,\n",
      "0x0af54399f2213cf0,\n",
      "0xe85c98ff6cbbba90,\n",
      "0x2d4134104f034524,\n",
      "0x6e591a662072edb1,\n",
      "0xc96b7b8954d44213,\n",
      "0x1e7c884fa8e3ebd6,\n",
      "0x3a6eba8688efb02e,\n",
      "0x5ea122db756ea6e1,\n",
      "0x58ec0cd18038e78b,\n",
      "0x055100016f5b9e75,\n",
      "0x616d110a38db69db,\n",
      "0xe2d08b35d1072043,\n",
      "0xc1c5b8c532d6f0b1,\n",
      "0xfecd60f7669c4a29,\n",
      "0x3e49c2bc9362ddda,\n",
      "0x9292a49124ee338c,\n",
      "0x44dbb38d6ab13d23,\n",
      "0x1290837199807d1a,\n",
      "0x6fc843f4c14379ab,\n",
      "0x0562b6e999f64f40,\n",
      "0xb408d898712116a9,\n",
      "0xd10b283abdb7093d,\n",
      "0xdec8183fe345e20e,\n",
      "0x851268389b991fbf,\n",
      "0x880e6f6f57531341,\n",
      "0x4e84f57065b96447,\n",
      "0x9371d4f6bd\n"
     ]
    }
   ],
   "source": [
    "from textwrap import wrap\n",
    "print(str(',\\n').join(list(map(lambda x: '0x' + x[::-1], wrap(hex(((t - 1) / 2))[2:][::-1], 16)))))"
   ]
  },
  {
   "cell_type": "code",
   "execution_count": 26,
   "id": "0d101259",
   "metadata": {
    "pycharm": {
     "name": "#%%\n"
    }
   },
   "outputs": [
    {
     "data": {
      "text/plain": [
       "48748923930101989821174716110429133049421803076565669803121595617213946350705366541229397933415464702213794982169532151539638467419251481499896327380776367198339245640194519641332872668706920934248025562022318136831195656394186869288232798501470208"
      ]
     },
     "execution_count": 26,
     "metadata": {},
     "output_type": "execute_result"
    }
   ],
   "source": [
    "Integer(pow(u, t, q).n())"
   ]
  },
  {
   "cell_type": "code",
   "execution_count": 20,
   "id": "815e705e",
   "metadata": {
    "pycharm": {
     "name": "#%%\n"
    }
   },
   "outputs": [
    {
     "data": {
      "text/plain": [
       "1"
      ]
     },
     "execution_count": 20,
     "metadata": {},
     "output_type": "execute_result"
    }
   ],
   "source": [
    "pow(nqr, (1 - 1)/3, q)"
   ]
  },
  {
   "cell_type": "code",
   "execution_count": 21,
   "id": "3abeb0c9",
   "metadata": {
    "pycharm": {
     "name": "#%%\n"
    }
   },
   "outputs": [
    {
     "data": {
      "text/plain": [
       "158164773293246164928191506423795290822624508614190410039868378750451873499283549514527042158960408291274284177439282991509289235894292806426569003744349478225475741835562269113192653563191786511122803551764533743021881218951197705356291692313302855"
      ]
     },
     "execution_count": 21,
     "metadata": {},
     "output_type": "execute_result"
    }
   ],
   "source": [
    "pow(nqr, (q - 1)/3, q)"
   ]
  },
  {
   "cell_type": "code",
   "execution_count": 22,
   "id": "7afc2491",
   "metadata": {
    "pycharm": {
     "name": "#%%\n"
    }
   },
   "outputs": [
    {
     "data": {
      "text/plain": [
       "137338827194363044839285770158792901283213494759283568492054045581545398727843036346211593152999493875350346490900060945614815024248544413697720167654237356797680157624957367903361491664978506560521418647025282110211356891005891684994807961779622761"
      ]
     },
     "execution_count": 22,
     "metadata": {},
     "output_type": "execute_result"
    }
   ],
   "source": [
    "pow(nqr, (q^2 - 1)/3, q)"
   ]
  },
  {
   "cell_type": "code",
   "execution_count": 23,
   "id": "d0dd2c52",
   "metadata": {
    "pycharm": {
     "name": "#%%\n"
    }
   },
   "outputs": [
    {
     "data": {
      "text/plain": [
       "1"
      ]
     },
     "execution_count": 23,
     "metadata": {},
     "output_type": "execute_result"
    }
   ],
   "source": [
    "pow(2, (2 * 1 - 2)/3, q)"
   ]
  },
  {
   "cell_type": "code",
   "execution_count": 24,
   "id": "554a9386",
   "metadata": {
    "pycharm": {
     "name": "#%%\n"
    }
   },
   "outputs": [
    {
     "data": {
      "text/plain": [
       "158164773293246164928191506423795290822624508614190410039868378750451873499283549514527042158960408291274284177439282991509289235894292806426569003744349478225475741835562269113192653563191786511122803551764533743021881218951197705356291692313302855"
      ]
     },
     "execution_count": 24,
     "metadata": {},
     "output_type": "execute_result"
    }
   ],
   "source": [
    "pow(2, (2 * q - 2)/3, q)"
   ]
  },
  {
   "cell_type": "code",
   "execution_count": 25,
   "id": "2824c3bc",
   "metadata": {
    "pycharm": {
     "name": "#%%\n"
    }
   },
   "outputs": [
    {
     "data": {
      "text/plain": [
       "137338827194363044839285770158792901283213494759283568492054045581545398727843036346211593152999493875350346490900060945614815024248544413697720167654237356797680157624957367903361491664978506560521418647025282110211356891005891684994807961779622761"
      ]
     },
     "execution_count": 25,
     "metadata": {},
     "output_type": "execute_result"
    }
   ],
   "source": [
    "pow(2, (2 * q^2 - 2)/3, q)"
   ]
  }
 ],
 "metadata": {
  "kernelspec": {
   "display_name": "SageMath 9.7",
   "language": "sage",
   "name": "sagemath-9.7"
  },
  "language_info": {
   "codemirror_mode": {
    "name": "ipython",
    "version": 3
   },
   "file_extension": ".py",
   "mimetype": "text/x-python",
   "name": "python",
   "nbconvert_exporter": "python",
   "pygments_lexer": "ipython3",
   "version": "3.10.5"
  }
 },
 "nbformat": 4,
 "nbformat_minor": 5
}
