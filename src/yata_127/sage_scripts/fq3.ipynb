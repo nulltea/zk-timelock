{
 "cells": [
  {
   "cell_type": "code",
   "execution_count": 209,
   "id": "01f35ca5",
   "metadata": {
    "pycharm": {
     "name": "#%%\n"
    }
   },
   "outputs": [],
   "source": [
    "q = 295503600487609209767477276582588192105838003373473978531922424331997272227126585860738635311959902166624630668339343937124104260142837220124289171398586835023155899460519637016554145228170293071644222198789815853233238109957089390351099654092925617"
   ]
  },
  {
   "cell_type": "code",
   "execution_count": 210,
   "id": "f606f731",
   "metadata": {
    "pycharm": {
     "name": "#%%\n"
    }
   },
   "outputs": [],
   "source": [
    "F = GF(q)"
   ]
  },
  {
   "cell_type": "code",
   "execution_count": 211,
   "id": "a03e885c",
   "metadata": {
    "pycharm": {
     "name": "#%%\n"
    }
   },
   "outputs": [],
   "source": [
    "K3.<x> = PolynomialRing(F)"
   ]
  },
  {
   "cell_type": "code",
   "execution_count": 212,
   "id": "7b2bf3af",
   "metadata": {},
   "outputs": [],
   "source": [
    "t = (q^3 - 1) // pow(2, 3)"
   ]
  },
  {
   "cell_type": "code",
   "execution_count": 214,
   "id": "a2aaccd7",
   "metadata": {},
   "outputs": [
    {
     "data": {
      "text/plain": [
       "5"
      ]
     },
     "execution_count": 214,
     "metadata": {},
     "output_type": "execute_result"
    }
   ],
   "source": [
    "nqr = 0;\n",
    "for n in range(20):\n",
    "        try:\n",
    "            K.<a> = GF(q**3, name='a', modulus=x ^ 3 - n)\n",
    "            F3.<u> = F.extension(x ^ 3 - n)\n",
    "            if not u.is_square():\n",
    "                nqr = Integer(n)\n",
    "                break\n",
    "        except:\n",
    "            pass\n",
    "nqr"
   ]
  },
  {
   "cell_type": "code",
   "execution_count": 215,
   "id": "7f899a15",
   "metadata": {
    "pycharm": {
     "name": "#%%\n"
    }
   },
   "outputs": [
    {
     "data": {
      "text/plain": [
       "3225509634115834186924657645034640348466537540958680254363536972742557587938002013012921537887788397194872892768898723345356248403390876442289813661668200688195502897833960765183288854186864621090113868296072949657299919230837220350936206868739935285026490496450820593298997148757548481492278753347614782733338423226741808804129980191676464462418656636170835504842668721779541584817267529312890467942162019114986913176189898246753043672579882399452074618335805888498707789738106373644557825282523328601076319523585902404976888193921037157662074277062591487483598892178863053055830809344454090132614186128761667114573805051502577312591482365384009226164623535942978702164090633404068120321580638418817132302277112753851080275534152124003960732514"
      ]
     },
     "execution_count": 215,
     "metadata": {},
     "output_type": "execute_result"
    }
   ],
   "source": [
    "t = (q^3 - 1) // pow(2, 3)\n",
    "t"
   ]
  },
  {
   "cell_type": "code",
   "execution_count": 216,
   "id": "1179b29c",
   "metadata": {
    "pycharm": {
     "name": "#%%\n"
    }
   },
   "outputs": [
    {
     "data": {
      "text/plain": [
       "1612754817057917211644556099142064775335441092863875604331367773494831997444384359013520932488227796693412177478530039410966342388139963993538623532298858956112359086833627215833466008022391992947613069362621089596811865293080164837325002599141252053009841855303170396799259251213914120396438068477955211227496995487852983718980132509490161908944539688657806263724894868576927314138697623809129765333674062804745708583644567520693739711259330528333880290007665629126835414411708813124761603179715713060555947091239096357557216853034206455943055183154292770870559776910949764868554924910044810559737162583409734251053141419085233232179508387201075504596834065343659632259693392395264983497658901326009121766552381247320233419634480494727976189952"
      ]
     },
     "execution_count": 216,
     "metadata": {},
     "output_type": "execute_result"
    }
   ],
   "source": [
    "Integer(((t - 1)//2).n())"
   ]
  },
  {
   "cell_type": "code",
   "execution_count": 217,
   "id": "c55956ef",
   "metadata": {
    "pycharm": {
     "name": "#%%\n"
    }
   },
   "outputs": [
    {
     "name": "stdout",
     "output_type": "stream",
     "text": [
      "0xaaa6445b6d2dddb0,\n",
      "0x34df394b02593d47,\n",
      "0x2adc876e32068036,\n",
      "0x83222c48d66791ce,\n",
      "0x6dfc452c71b53e80,\n",
      "0x2e25b00012ef37c1,\n",
      "0x4f0f6cfa18f27775,\n",
      "0x1e6f3981ebcb41c1,\n",
      "0x24c6a8e9d8da5614,\n",
      "0x88f0fe41015308c8,\n",
      "0x0ac3b1490574dedb,\n",
      "0xdfe7455b5f8eb2f8,\n",
      "0x15ea8733e44279e1,\n",
      "0xd0b931fed9777520,\n",
      "0x5a8268209e068a49,\n",
      "0xdcb234cc40e5db62,\n",
      "0x92d6f712a9a88426,\n",
      "0x3cf9109f51c7d7ad,\n",
      "0x74dd750d11df605c,\n",
      "0xbd4245b6eadd4dc2,\n",
      "0xb1d819a30071cf16,\n",
      "0x0aa20002deb73cea,\n",
      "0xc2da221471b6d3b6,\n",
      "0xc5a1166ba20e4086,\n",
      "0x838b718a65ade163,\n",
      "0xfd9ac1eecd389453,\n",
      "0x7c93857926c5bbb5,\n",
      "0x2525492249dc6718,\n",
      "0x89b7671ad5627a47,\n",
      "0x252106e33300fa34,\n",
      "0xdf9087e98286f356,\n",
      "0x0ac56dd333ec9e80,\n",
      "0x6811b130e2422d52,\n",
      "0xa21650757b6e127b,\n",
      "0xbd90307fc68bc41d,\n",
      "0x0a24d07137323f7f,\n",
      "0x101cdedeaea62683,\n",
      "0x9d09eae0cb72c88f,\n",
      "0x126e3a9ed7a\n"
     ]
    }
   ],
   "source": [
    "from textwrap import wrap\n",
    "print(str(',\\n').join(list(map(lambda x: '0x' + x[::-1], wrap(hex(((t - 1) // 2))[2:][::-1], 16)))))"
   ]
  },
  {
   "cell_type": "code",
   "execution_count": 218,
   "id": "0d101259",
   "metadata": {
    "pycharm": {
     "name": "#%%\n"
    }
   },
   "outputs": [
    {
     "data": {
      "text/plain": [
       "31334568688129675667391779742052274510420205806735185784442389558377963930051094894950807563085134789270329113622526565786883965538621397755114952991725716326703959304218194989086869980507473982493341252328813423334297534020361933484596397911048192"
      ]
     },
     "execution_count": 218,
     "metadata": {},
     "output_type": "execute_result"
    }
   ],
   "source": [
    "Integer(pow(u, t, q).n())"
   ]
  },
  {
   "cell_type": "code",
   "execution_count": 219,
   "id": "815e705e",
   "metadata": {
    "pycharm": {
     "name": "#%%\n"
    }
   },
   "outputs": [
    {
     "data": {
      "text/plain": [
       "1"
      ]
     },
     "execution_count": 219,
     "metadata": {},
     "output_type": "execute_result"
    }
   ],
   "source": [
    "pow(nqr, (1 - 1)/3, q)"
   ]
  },
  {
   "cell_type": "code",
   "execution_count": 220,
   "id": "3abeb0c9",
   "metadata": {
    "pycharm": {
     "name": "#%%\n"
    }
   },
   "outputs": [
    {
     "data": {
      "text/plain": [
       "158164773293246164928191506423795290822624508614190410039868378750451873499283549514527042158960408291274284177439282991509289235894292806426569003744349478225475741835562269113192653563191786511122803551764533743021881218951197705356291692313302855"
      ]
     },
     "execution_count": 220,
     "metadata": {},
     "output_type": "execute_result"
    }
   ],
   "source": [
    "pow(nqr, (q - 1)/3, q)"
   ]
  },
  {
   "cell_type": "code",
   "execution_count": 221,
   "id": "7afc2491",
   "metadata": {
    "pycharm": {
     "name": "#%%\n"
    }
   },
   "outputs": [
    {
     "data": {
      "text/plain": [
       "137338827194363044839285770158792901283213494759283568492054045581545398727843036346211593152999493875350346490900060945614815024248544413697720167654237356797680157624957367903361491664978506560521418647025282110211356891005891684994807961779622761"
      ]
     },
     "execution_count": 221,
     "metadata": {},
     "output_type": "execute_result"
    }
   ],
   "source": [
    "pow(nqr, (q^2 - 1)/3, q)"
   ]
  },
  {
   "cell_type": "code",
   "execution_count": 222,
   "id": "d0dd2c52",
   "metadata": {
    "pycharm": {
     "name": "#%%\n"
    }
   },
   "outputs": [
    {
     "data": {
      "text/plain": [
       "1"
      ]
     },
     "execution_count": 222,
     "metadata": {},
     "output_type": "execute_result"
    }
   ],
   "source": [
    "pow(2, (2 * 1 - 2)/3, q)"
   ]
  },
  {
   "cell_type": "code",
   "execution_count": 223,
   "id": "554a9386",
   "metadata": {
    "pycharm": {
     "name": "#%%\n"
    }
   },
   "outputs": [
    {
     "data": {
      "text/plain": [
       "158164773293246164928191506423795290822624508614190410039868378750451873499283549514527042158960408291274284177439282991509289235894292806426569003744349478225475741835562269113192653563191786511122803551764533743021881218951197705356291692313302855"
      ]
     },
     "execution_count": 223,
     "metadata": {},
     "output_type": "execute_result"
    }
   ],
   "source": [
    "pow(2, (2 * q - 2)/3, q)"
   ]
  },
  {
   "cell_type": "code",
   "execution_count": 224,
   "id": "2824c3bc",
   "metadata": {
    "pycharm": {
     "name": "#%%\n"
    }
   },
   "outputs": [
    {
     "data": {
      "text/plain": [
       "137338827194363044839285770158792901283213494759283568492054045581545398727843036346211593152999493875350346490900060945614815024248544413697720167654237356797680157624957367903361491664978506560521418647025282110211356891005891684994807961779622761"
      ]
     },
     "execution_count": 224,
     "metadata": {},
     "output_type": "execute_result"
    }
   ],
   "source": [
    "pow(2, (2 * q^2 - 2)/3, q)"
   ]
  }
 ],
 "metadata": {
  "kernelspec": {
   "display_name": "SageMath 9.7",
   "language": "sage",
   "name": "sagemath-9.7"
  },
  "language_info": {
   "codemirror_mode": {
    "name": "ipython",
    "version": 3
   },
   "file_extension": ".py",
   "mimetype": "text/x-python",
   "name": "python",
   "nbconvert_exporter": "python",
   "pygments_lexer": "ipython3",
   "version": "3.10.5"
  }
 },
 "nbformat": 4,
 "nbformat_minor": 5
}
