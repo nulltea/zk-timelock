{
 "cells": [
  {
   "cell_type": "code",
   "execution_count": 4,
   "id": "385a8d04",
   "metadata": {
    "pycharm": {
     "name": "#%%\n"
    }
   },
   "outputs": [],
   "source": [
    "q = 295503600487609209767477276582588192105838003373473978531922424331997272227126585860738635311959902166624630668339343937124104260142837220124289171398586835023155899460519637016554145228170293071644222198789815853233238109957089390351099654092925617\n",
    "rqs = 5"
   ]
  },
  {
   "cell_type": "code",
   "execution_count": 5,
   "id": "61a8fda4",
   "metadata": {
    "pycharm": {
     "name": "#%%\n"
    }
   },
   "outputs": [],
   "source": [
    "F = GF(q)"
   ]
  },
  {
   "cell_type": "code",
   "execution_count": 6,
   "id": "0eda5e9e",
   "metadata": {
    "pycharm": {
     "name": "#%%\n"
    }
   },
   "outputs": [],
   "source": [
    "K3.<x> = PolynomialRing(F)"
   ]
  },
  {
   "cell_type": "code",
   "execution_count": 7,
   "id": "d7fc44b8",
   "metadata": {
    "pycharm": {
     "name": "#%%\n"
    }
   },
   "outputs": [],
   "source": [
    "K.<a> = GF(q**3, name='a', modulus=x ^ 3 - rqs)"
   ]
  },
  {
   "cell_type": "code",
   "execution_count": 8,
   "id": "723d8700",
   "metadata": {
    "pycharm": {
     "name": "#%%\n"
    }
   },
   "outputs": [],
   "source": [
    "F3.<u> = F.extension(x ^ 3 - rqs)"
   ]
  },
  {
   "cell_type": "code",
   "execution_count": 9,
   "id": "f96a66ec",
   "metadata": {
    "pycharm": {
     "name": "#%%\n"
    }
   },
   "outputs": [],
   "source": [
    "K6.<y> = PolynomialRing(F3)"
   ]
  },
  {
   "cell_type": "code",
   "execution_count": 10,
   "id": "aa154cee",
   "metadata": {
    "pycharm": {
     "name": "#%%\n"
    }
   },
   "outputs": [],
   "source": [
    "F6.<v> = F3.extension(y ^ 2 - u)"
   ]
  },
  {
   "cell_type": "code",
   "execution_count": 11,
   "id": "8e7ea1ff",
   "metadata": {
    "pycharm": {
     "name": "#%%\n"
    }
   },
   "outputs": [
    {
     "data": {
      "text/plain": [
       "1"
      ]
     },
     "execution_count": 11,
     "metadata": {},
     "output_type": "execute_result"
    }
   ],
   "source": [
    "pow(u, (1 - 1) / 2, q)"
   ]
  },
  {
   "cell_type": "code",
   "execution_count": 12,
   "id": "9018b414",
   "metadata": {
    "pycharm": {
     "name": "#%%\n"
    }
   },
   "outputs": [
    {
     "data": {
      "text/plain": [
       "158164773293246164928191506423795290822624508614190410039868378750451873499283549514527042158960408291274284177439282991509289235894292806426569003744349478225475741835562269113192653563191786511122803551764533743021881218951197705356291692313302856"
      ]
     },
     "execution_count": 12,
     "metadata": {},
     "output_type": "execute_result"
    }
   ],
   "source": [
    "pow(u, (q - 1) / 2, q)"
   ]
  },
  {
   "cell_type": "code",
   "execution_count": 13,
   "id": "24181e6d",
   "metadata": {
    "pycharm": {
     "name": "#%%\n"
    }
   },
   "outputs": [
    {
     "data": {
      "text/plain": [
       "158164773293246164928191506423795290822624508614190410039868378750451873499283549514527042158960408291274284177439282991509289235894292806426569003744349478225475741835562269113192653563191786511122803551764533743021881218951197705356291692313302855"
      ]
     },
     "execution_count": 13,
     "metadata": {},
     "output_type": "execute_result"
    }
   ],
   "source": [
    "pow(u, (q^2 - 1) / 2, q)"
   ]
  },
  {
   "cell_type": "code",
   "execution_count": 14,
   "id": "7e63c1e7",
   "metadata": {
    "pycharm": {
     "name": "#%%\n"
    }
   },
   "outputs": [
    {
     "data": {
      "text/plain": [
       "295503600487609209767477276582588192105838003373473978531922424331997272227126585860738635311959902166624630668339343937124104260142837220124289171398586835023155899460519637016554145228170293071644222198789815853233238109957089390351099654092925616"
      ]
     },
     "execution_count": 14,
     "metadata": {},
     "output_type": "execute_result"
    }
   ],
   "source": [
    "pow(u, (q^3 - 1) / 2, q)"
   ]
  },
  {
   "cell_type": "code",
   "execution_count": 15,
   "id": "bddc7aab",
   "metadata": {
    "pycharm": {
     "name": "#%%\n"
    }
   },
   "outputs": [
    {
     "data": {
      "text/plain": [
       "137338827194363044839285770158792901283213494759283568492054045581545398727843036346211593152999493875350346490900060945614815024248544413697720167654237356797680157624957367903361491664978506560521418647025282110211356891005891684994807961779622761"
      ]
     },
     "execution_count": 15,
     "metadata": {},
     "output_type": "execute_result"
    }
   ],
   "source": [
    "pow(u, (q^4 - 1) / 2, q)"
   ]
  },
  {
   "cell_type": "code",
   "execution_count": 16,
   "id": "089edfeb",
   "metadata": {
    "pycharm": {
     "name": "#%%\n"
    }
   },
   "outputs": [
    {
     "data": {
      "text/plain": [
       "137338827194363044839285770158792901283213494759283568492054045581545398727843036346211593152999493875350346490900060945614815024248544413697720167654237356797680157624957367903361491664978506560521418647025282110211356891005891684994807961779622762"
      ]
     },
     "execution_count": 16,
     "metadata": {},
     "output_type": "execute_result"
    }
   ],
   "source": [
    "pow(u, (q^5 - 1) / 2, q)\n"
   ]
  }
 ],
 "metadata": {
  "kernelspec": {
   "display_name": "SageMath 9.7",
   "language": "sage",
   "name": "sagemath-9.7"
  },
  "language_info": {
   "codemirror_mode": {
    "name": "ipython",
    "version": 3
   },
   "file_extension": ".py",
   "mimetype": "text/x-python",
   "name": "python",
   "nbconvert_exporter": "python",
   "pygments_lexer": "ipython3",
   "version": "3.10.5"
  }
 },
 "nbformat": 4,
 "nbformat_minor": 5
}