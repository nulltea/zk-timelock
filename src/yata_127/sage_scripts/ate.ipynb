{
 "cells": [
  {
   "cell_type": "code",
   "execution_count": 2,
   "id": "e96ab0f3",
   "metadata": {
    "pycharm": {
     "name": "#%%\n"
    }
   },
   "outputs": [],
   "source": [
    "q = 295503600487609209767477276582588192105838003373473978531922424331997272227126585860738635311959902166624630668339343937124104260142837220124289171398586835023155899460519637016554145228170293071644222198789815853233238109957089390351099654092925617\n",
    "t = 34380436325771620967632952473828082793156904272317916245459108005096274242451447298267646534317268794665575692661797924110339\n",
    "r = 4002409555221667393417789825735904156556882819939007885332058136124031650490837864442687629129015664037894272559787\n",
    "k = 6\n",
    "D = -3"
   ]
  },
  {
   "cell_type": "code",
   "execution_count": 3,
   "id": "e82f85b4",
   "metadata": {
    "pycharm": {
     "name": "#%%\n"
    }
   },
   "outputs": [
    {
     "data": {
      "text/plain": [
       "34380436325771620967632952473828082793156904272317916245459108005096274242451447298267646534317268794665575692661797924110338"
      ]
     },
     "execution_count": 3,
     "metadata": {},
     "output_type": "execute_result"
    }
   ],
   "source": [
    "t - 1"
   ]
  },
  {
   "cell_type": "code",
   "execution_count": 4,
   "id": "01dfac99",
   "metadata": {
    "pycharm": {
     "name": "#%%\n"
    }
   },
   "outputs": [
    {
     "name": "stdout",
     "output_type": "stream",
     "text": [
      "0xb7f85555fffc0002,\n",
      "0x54cbd80711fbffff,\n",
      "0x6bccfd2cd0893dcb,\n",
      "0x29a59332c81ec5e7,\n",
      "0x89a9a647060e78ee,\n",
      "0x5d096e709bb66ad9,\n",
      "0x340223d5\n"
     ]
    }
   ],
   "source": [
    "from textwrap import wrap\n",
    "print(str(',\\n').join(list(map(lambda x: '0x' + x[::-1], wrap(hex(t-1)[2:][::-1], 16)))))"
   ]
  },
  {
   "cell_type": "code",
   "execution_count": 5,
   "id": "f89a69e6",
   "metadata": {
    "pycharm": {
     "name": "#%%\n"
    }
   },
   "outputs": [
    {
     "data": {
      "text/plain": [
       "21817451886505986593356589765101527041683269588668929176984036600955256323120327453559623202320626082993987370117096321754925728117958356740823846596554078084335410058521690380094140461757389115551376489717769861934697487272373028726638393120640390793735968553536456109662709971902761195536414789044157662134505022903496415952062866892635620984160035234757080624662158244005433813779"
      ]
     },
     "execution_count": 5,
     "metadata": {},
     "output_type": "execute_result"
    }
   ],
   "source": [
    "remaining = (q ^ 6 - 1) // (q ^ 3 - 1) // (q + 1) // r\n",
    "remaining"
   ]
  },
  {
   "cell_type": "code",
   "execution_count": 6,
   "id": "20db7dbb",
   "metadata": {
    "pycharm": {
     "name": "#%%\n"
    }
   },
   "outputs": [
    {
     "data": {
      "text/plain": [
       "58583714044779100235452016811134025443672948020624341127823350194447647092441447238950014466895323216352825557141173068490572165842429050707090738457799985646421001926066877381067472193649462839618834773106665601731187657924804573"
      ]
     },
     "execution_count": 6,
     "metadata": {},
     "output_type": "execute_result"
    }
   ],
   "source": [
    "w0 = remaining % q\n",
    "w0"
   ]
  },
  {
   "cell_type": "code",
   "execution_count": 7,
   "id": "e9f4d431",
   "metadata": {
    "pycharm": {
     "name": "#%%\n"
    }
   },
   "outputs": [
    {
     "data": {
      "text/plain": [
       "73831424898055738890520401036781359556890080209416916282820004486074733845034831464304821246221059075339047558862668512464267798839318"
      ]
     },
     "execution_count": 7,
     "metadata": {},
     "output_type": "execute_result"
    }
   ],
   "source": [
    "w1 = remaining // q\n",
    "w1"
   ]
  },
  {
   "cell_type": "code",
   "execution_count": 8,
   "id": "ff530aef",
   "metadata": {
    "pycharm": {
     "name": "#%%\n"
    }
   },
   "outputs": [
    {
     "name": "stdout",
     "output_type": "stream",
     "text": [
      "0x2c8600160025ffdd,\n",
      "0x5524f008621f9ae3,\n",
      "0xd24f8e521a7c5570,\n",
      "0xe2b8c65023544060,\n",
      "0xb68a2657b3a688f1,\n",
      "0xb5079fce52c4e019,\n",
      "0x8396269ad9beffe8,\n",
      "0xd244f87c5edd7abe,\n",
      "0x4b655e2a84d659d1,\n",
      "0xe20ce9133ee928d7,\n",
      "0x0e66c5f20b2d9af4,\n",
      "0x9a8fa3c4d416760\n"
     ]
    }
   ],
   "source": [
    "from textwrap import wrap\n",
    "print(str(',\\n').join(list(map(lambda x: '0x' + x[::-1], wrap(hex(w0)[2:][::-1], 16)))))"
   ]
  },
  {
   "cell_type": "code",
   "execution_count": 9,
   "id": "e3dcb610",
   "metadata": {
    "pycharm": {
     "name": "#%%\n"
    }
   },
   "outputs": [
    {
     "name": "stdout",
     "output_type": "stream",
     "text": [
      "0xc5dd0009ffeb0016,\n",
      "0x82fe84651c1426c0,\n",
      "0x01da78c4aa5145a7,\n",
      "0x06b99b6f27d67048,\n",
      "0x538abe7d2db06ef7,\n",
      "0x1ad7c04a13d851cd,\n",
      "0x1a0111eb238987dc\n"
     ]
    }
   ],
   "source": [
    "from textwrap import wrap\n",
    "print(str(',\\n').join(list(map(lambda x: '0x' + x[::-1], wrap(hex(w1)[2:][::-1], 16)))))\n"
   ]
  }
 ],
 "metadata": {
  "kernelspec": {
   "display_name": "SageMath 9.7",
   "language": "sage",
   "name": "sagemath-9.7"
  },
  "language_info": {
   "codemirror_mode": {
    "name": "ipython",
    "version": 3
   },
   "file_extension": ".py",
   "mimetype": "text/x-python",
   "name": "python",
   "nbconvert_exporter": "python",
   "pygments_lexer": "ipython3",
   "version": "3.10.5"
  }
 },
 "nbformat": 4,
 "nbformat_minor": 5
}
