{
 "cells": [
  {
   "cell_type": "code",
   "execution_count": 1,
   "id": "f890e69f",
   "metadata": {
    "pycharm": {
     "name": "#%%\n"
    }
   },
   "outputs": [],
   "source": [
    "q=295503600487609209767477276582588192105838003373473978531922424331997272227126585860738635311959902166624630668339343937124104260142837220124289171398586835023155899460519637016554145228170293071644222198789815853233238109957089390351099654092925617\n",
    "t=34380436325771620967632952473828082793156904272317916245459108005096274242451447298267646534317268794665575692661797924110339\n",
    "r=4002409555221667393417789825735904156556882819939007885332058136124031650490837864442687629129015664037894272559787\n",
    "k=6\n",
    "D=-3"
   ]
  },
  {
   "cell_type": "code",
   "execution_count": 2,
   "id": "91bec88f",
   "metadata": {
    "pycharm": {
     "name": "#%%\n"
    }
   },
   "outputs": [],
   "source": [
    "coeff_b = 10497600\n",
    "E = EllipticCurve(GF(q), [0, 0, 0, 0, coeff_b])"
   ]
  },
  {
   "cell_type": "code",
   "execution_count": 3,
   "id": "391ecf70",
   "metadata": {
    "pycharm": {
     "name": "#%%\n"
    }
   },
   "outputs": [
    {
     "data": {
      "text/plain": [
       "295503600487609209767477276582588192105838003373473978531922424331997272227126585860738635311959902166624630668339343937124069879706511448503321538446113006940362742556247319100308686120165196797401770751491548206698920841162423814658437856168815279"
      ]
     },
     "execution_count": 3,
     "metadata": {},
     "output_type": "execute_result"
    }
   ],
   "source": [
    "num_points = E.cardinality()\n",
    "num_points"
   ]
  },
  {
   "cell_type": "code",
   "execution_count": 4,
   "id": "b45244f7",
   "metadata": {
    "pycharm": {
     "name": "#%%\n"
    }
   },
   "outputs": [
    {
     "data": {
      "text/plain": [
       "295503600487609209767477276582588192105838003373473978531922424331997272227126585860738635311959902166624630668339343937124069879706511448503321538446113006940362742556247319100308686120165196797401770751491548206698920841162423814658437856168815279"
      ]
     },
     "execution_count": 4,
     "metadata": {},
     "output_type": "execute_result"
    }
   ],
   "source": [
    "(q + 1 - t) "
   ]
  },
  {
   "cell_type": "code",
   "execution_count": 5,
   "id": "7cfce0fc",
   "metadata": {
    "pycharm": {
     "name": "#%%\n"
    },
    "scrolled": true
   },
   "outputs": [
    {
     "data": {
      "text/plain": [
       "73831424898055738890520401036781359556890080209416916282820004486074733845034831464304821246221059075339047558862668512464259208904717"
      ]
     },
     "execution_count": 5,
     "metadata": {},
     "output_type": "execute_result"
    }
   ],
   "source": [
    "# this is the cofactor\n",
    "(q + 1 - t) // r"
   ]
  },
  {
   "cell_type": "code",
   "execution_count": 6,
   "id": "5500b240",
   "metadata": {
    "pycharm": {
     "name": "#%%\n"
    }
   },
   "outputs": [
    {
     "name": "stdout",
     "output_type": "stream",
     "text": [
      "0xc5dd0007ffeb000d,\n",
      "0x82fe84651c1426c0,\n",
      "0x01da78c4aa5145a7,\n",
      "0x06b99b6f27d67048,\n",
      "0x538abe7d2db06ef7,\n",
      "0x1ad7c04a13d851cd,\n",
      "0x1a0111eb238987dc\n"
     ]
    }
   ],
   "source": [
    "from textwrap import wrap\n",
    "print(str(',\\n').join(list(map(lambda x: '0x' + x[::-1], wrap(hex((q + 1 - t) // r)[2:][::-1], 16)))))"
   ]
  },
  {
   "cell_type": "code",
   "execution_count": 7,
   "id": "feb7cf3f",
   "metadata": {
    "pycharm": {
     "name": "#%%\n"
    }
   },
   "outputs": [
    {
     "data": {
      "text/plain": [
       "3852817031829237036438514585552255945767152513918266070152863514131312236687683377121488082370457794000604421948704"
      ]
     },
     "execution_count": 7,
     "metadata": {},
     "output_type": "execute_result"
    }
   ],
   "source": [
    "pow((q + 1 - t) // r, -1, r)"
   ]
  },
  {
   "cell_type": "code",
   "execution_count": 8,
   "id": "aae2f8bf",
   "metadata": {
    "pycharm": {
     "name": "#%%\n"
    }
   },
   "outputs": [
    {
     "data": {
      "text/plain": [
       "63133708608525092904612809325941259022069792624022671698515595036598068728707369511045137582150741365439663642014177386730010871888514626618760614907410521337426502706923332415766424877312586896188162874970021376406862056345720806241681756379376364"
      ]
     },
     "execution_count": 8,
     "metadata": {},
     "output_type": "execute_result"
    }
   ],
   "source": [
    "# find a point\n",
    "x_test = 1\n",
    "res_test = pow(x_test, 3) + coeff_b\n",
    "\n",
    "Mod(res_test, q).sqrt()"
   ]
  },
  {
   "cell_type": "code",
   "execution_count": 9,
   "id": "6a002ae5",
   "metadata": {
    "pycharm": {
     "name": "#%%\n"
    }
   },
   "outputs": [],
   "source": [
    "P = E(1, Mod(res_test, q).sqrt())"
   ]
  },
  {
   "cell_type": "code",
   "execution_count": 10,
   "id": "ea9a4d90",
   "metadata": {
    "pycharm": {
     "name": "#%%\n"
    }
   },
   "outputs": [
    {
     "data": {
      "text/plain": [
       "(277058353873846650349877711360329345767869752932325150786328260223537264570841165403928775575155004346769657249969076287649517928359010781252590043152056459488208807097439520757283062313797937173686495540003761270627489810135201906205017140806773134 : 187056593267038000908245606262263145806962235013087328777582833627855281297161363739199646029037562979176281976731748422127589061828552798361601465602241766978812441849170481612980908196865169611227052266589230991021449889171224478037060801277692681 : 1)"
      ]
     },
     "execution_count": 10,
     "metadata": {},
     "output_type": "execute_result"
    }
   ],
   "source": [
    "P2 = P * ((q + 1 - t) // r)\n",
    "P2"
   ]
  },
  {
   "cell_type": "code",
   "execution_count": 55,
   "id": "3499c817",
   "metadata": {
    "pycharm": {
     "name": "#%%\n"
    }
   },
   "outputs": [
    {
     "data": {
      "text/plain": [
       "(0 : 1 : 0)"
      ]
     },
     "execution_count": 55,
     "metadata": {},
     "output_type": "execute_result"
    }
   ],
   "source": [
    "P2 * r"
   ]
  }
 ],
 "metadata": {
  "kernelspec": {
   "display_name": "SageMath 9.7",
   "language": "sage",
   "name": "sagemath-9.7"
  },
  "language_info": {
   "codemirror_mode": {
    "name": "ipython",
    "version": 3
   },
   "file_extension": ".py",
   "mimetype": "text/x-python",
   "name": "python",
   "nbconvert_exporter": "python",
   "pygments_lexer": "ipython3",
   "version": "3.10.5"
  }
 },
 "nbformat": 4,
 "nbformat_minor": 5
}
