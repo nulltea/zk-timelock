{
 "cells": [
  {
   "cell_type": "code",
   "execution_count": 73,
   "id": "2cdbce17",
   "metadata": {
    "pycharm": {
     "name": "#%%\n"
    }
   },
   "outputs": [],
   "source": [
    "q = 295503600487609209767477276582588192105838003373473978531922424331997272227126585860738635311959902166624630668339343937124104260142837220124289171398586835023155899460519637016554145228170293071644222198789815853233238109957089390351099654092925617\n",
    "t = 34380436325771620967632952473828082793156904272317916245459108005096274242451447298267646534317268794665575692661797924110339\n",
    "r = 4002409555221667393417789825735904156556882819939007885332058136124031650490837864442687629129015664037894272559787\n",
    "k = 6\n",
    "D = -3"
   ]
  },
  {
   "cell_type": "code",
   "execution_count": 76,
   "id": "cc24e18e",
   "metadata": {
    "pycharm": {
     "name": "#%%\n"
    }
   },
   "outputs": [],
   "source": [
    "coeff_b = 10497600"
   ]
  },
  {
   "cell_type": "code",
   "execution_count": 77,
   "id": "d50b9e80",
   "metadata": {
    "pycharm": {
     "name": "#%%\n"
    }
   },
   "outputs": [
    {
     "data": {
      "text/plain": [
       "52488000"
      ]
     },
     "execution_count": 77,
     "metadata": {},
     "output_type": "execute_result"
    }
   ],
   "source": [
    "coeff_b * 5 % q"
   ]
  },
  {
   "cell_type": "code",
   "execution_count": 78,
   "id": "5c449ee6",
   "metadata": {
    "pycharm": {
     "name": "#%%\n"
    }
   },
   "outputs": [],
   "source": [
    "F = GF(q)\n",
    "K3.<x> = PolynomialRing(F)\n",
    "K.<a> = GF(q**3, name='a', modulus=x ^ 3 - 5)\n",
    "F3.<u> = F.extension(x ^ 3 - 5)"
   ]
  },
  {
   "cell_type": "code",
   "execution_count": 79,
   "id": "78c34412",
   "metadata": {
    "pycharm": {
     "name": "#%%\n"
    }
   },
   "outputs": [
    {
     "data": {
      "text/plain": [
       "52488000"
      ]
     },
     "execution_count": 79,
     "metadata": {},
     "output_type": "execute_result"
    }
   ],
   "source": [
    "b = (u)^3 * coeff_b\n",
    "b"
   ]
  },
  {
   "cell_type": "code",
   "execution_count": 80,
   "id": "85be05e8",
   "metadata": {
    "pycharm": {
     "name": "#%%\n"
    }
   },
   "outputs": [],
   "source": [
    "E = EllipticCurve(F3, [0, 0, 0, 0, b])"
   ]
  },
  {
   "cell_type": "code",
   "execution_count": 81,
   "id": "0e37b138",
   "metadata": {
    "pycharm": {
     "name": "#%%\n"
    }
   },
   "outputs": [
    {
     "data": {
      "text/plain": [
       "25804077072926673495397261160277122787732300327669442034908295781940460703504016104103372303102307177558983142151189786762849987227127011538318509293345605505564023182671686121466310833494916968720910946368583597258399353846697762807489654949919482280211923971606564746391977190060387851938230026780918261866707385813934470433039841533411715699349253089366684038741349774246492221258740738584205097270153544685242689785638611759208036734180578889164544440942851761945441947042566466889347581260721447974101886435141470559993953547065025677072892267600594937286475940405140626311702904422773804806834855735278680305608193411476432462675358364937194478186066694257588094554093599178384786660727573845191778691961616006807677634554933230872077785844"
      ]
     },
     "execution_count": 81,
     "metadata": {},
     "output_type": "execute_result"
    }
   ],
   "source": [
    "num_points = E.cardinality()\n",
    "num_points"
   ]
  },
  {
   "cell_type": "code",
   "execution_count": 82,
   "id": "aa800a34",
   "metadata": {
    "pycharm": {
     "name": "#%%\n"
    }
   },
   "outputs": [
    {
     "data": {
      "text/plain": [
       "6447135585927700933407748811689132595890870311243558398603871172999994130868618551555035246040926632772227650412445248625332849385260495087351663445145363043186708714582233029464165666140730427829584314640004624189774065898629011465860428114872592416189741062553054179765831682246015931441771163985114638888831886882022621143566184396021756126445257896475423768255221342532242082040945189701515350770912588503662225892501095889405735860456297376095067247605870655726950349171865161964799340293657958849426147256294607101027123737730201967585596469531788433434380482507491392059431306859459850166309148845931479092632486865687253212"
      ]
     },
     "execution_count": 82,
     "metadata": {},
     "output_type": "execute_result"
    }
   ],
   "source": [
    "cofactor = num_points // r\n",
    "cofactor"
   ]
  },
  {
   "cell_type": "code",
   "execution_count": 83,
   "id": "1e17f9ef",
   "metadata": {
    "pycharm": {
     "name": "#%%\n"
    },
    "scrolled": true
   },
   "outputs": [
    {
     "name": "stdout",
     "output_type": "stream",
     "text": [
      "0xe392da590ab390dc,\n",
      "0x2f60e7fcf13277b1,\n",
      "0x1da3c041afb73a98,\n",
      "0x18f78b83c5bd1de9,\n",
      "0x31156d5410253f07,\n",
      "0x419c8ddd9c2a1bb7,\n",
      "0x5847881e5116a7d4,\n",
      "0xdc8e36bb8f1d5104,\n",
      "0x581109251857cc4d,\n",
      "0x946f8ec49db699d6,\n",
      "0xa806738c244641c2,\n",
      "0x0ef7e47f9310c1f7,\n",
      "0x4d8f796f54e5a2af,\n",
      "0x88c9b7891e3e4a37,\n",
      "0x9c435d9ab0472788,\n",
      "0xaa7bd0af1dd44c60,\n",
      "0x8a2f4d58e2803d1f,\n",
      "0xc954c347d08ffdba,\n",
      "0x0c3efd1eb0fe32e3,\n",
      "0x4039c781171f373b,\n",
      "0xfa71c3bd2ddb56b5,\n",
      "0xcc5f47659bd6b08b,\n",
      "0x4438d33e536cbc22,\n",
      "0x2ecee613f5797235,\n",
      "0x598340b274fc7e7d,\n",
      "0x0d7220b638d2544d,\n",
      "0xef51b195ba4527c4,\n",
      "0x30feafb0f7be9a96,\n",
      "0xc698721a88ce722b,\n",
      "0x732e5c78a28b71b4,\n",
      "0x9187970b5c92597d,\n",
      "0x713784c13024806c,\n",
      "0xb570f10db745\n"
     ]
    }
   ],
   "source": [
    "from textwrap import wrap\n",
    "print(str(',\\n').join(list(map(lambda x: '0x' + x[::-1], wrap(hex(cofactor)[2:][::-1], 16)))))"
   ]
  },
  {
   "cell_type": "code",
   "execution_count": 84,
   "id": "369d01e0",
   "metadata": {
    "pycharm": {
     "name": "#%%\n"
    }
   },
   "outputs": [
    {
     "data": {
      "text/plain": [
       "2111198320556845887376660656827115157401992140545550984805254627101401634376506928451168733189055140796931885454934"
      ]
     },
     "execution_count": 84,
     "metadata": {},
     "output_type": "execute_result"
    }
   ],
   "source": [
    "cofactor_inv = pow(cofactor, -1, r)\n",
    "cofactor_inv"
   ]
  },
  {
   "cell_type": "code",
   "execution_count": 96,
   "id": "531aad46",
   "metadata": {
    "pycharm": {
     "name": "#%%\n"
    }
   },
   "outputs": [
    {
     "data": {
      "text/plain": [
       "True"
      ]
     },
     "execution_count": 96,
     "metadata": {},
     "output_type": "execute_result"
    }
   ],
   "source": [
    "x_test = u + 1\n",
    "res_test = pow(x_test, 3)  + b\n",
    "\n",
    "res_test.is_square()"
   ]
  },
  {
   "cell_type": "code",
   "execution_count": 97,
   "id": "95bc9ad2",
   "metadata": {
    "pycharm": {
     "name": "#%%\n"
    }
   },
   "outputs": [
    {
     "data": {
      "text/plain": [
       "29897401690947072766014132348109222839323622108051445260026835394125596043784946052196147784581062309088219369815918088968048745869045907464505414187375224206747123111324156520790907969664770649840421975068917157448310309967651460051062149617087048*u^2 + 143214603653096996791144137323967963341269736686742090595876889583789470289495115408955981895172598324157466689473329182215920938208218786335122064581010808707710434270157543805905556825853990316189435562156053660864227411503639018535628138867070218*u + 93603410966876346267236173282276028054207789842219142115726509505762129179107625327475804017846607197955008773926643855171585745508211792730791896582865074066856806810129864648664212535320191312816191331900717751065302337959083202125106875736980052"
      ]
     },
     "execution_count": 97,
     "metadata": {},
     "output_type": "execute_result"
    }
   ],
   "source": [
    "res_test.sqrt()"
   ]
  },
  {
   "cell_type": "code",
   "execution_count": 98,
   "id": "b28a59e5",
   "metadata": {
    "pycharm": {
     "name": "#%%\n"
    }
   },
   "outputs": [],
   "source": [
    "P = E(u+1, res_test.sqrt())"
   ]
  },
  {
   "cell_type": "code",
   "execution_count": 99,
   "id": "a1b339a0",
   "metadata": {
    "pycharm": {
     "name": "#%%\n"
    }
   },
   "outputs": [
    {
     "data": {
      "text/plain": [
       "(189256901536266233326238814060376229472612821464743711592736327271619400466666929180415266714712254453130979821454317791587173833024854303438590896321719240141882372772182205416754404121057071187480500813008381283503972997872680373151468309224198107 : 262221164801290070898569926029903537500007389250618156947356577132055204329822893842479836297994170567464301732324855718203854704244263237414720570500353926858687181889598249710116215610280497061594988491734073249080426186168152431134081259001020209 : 1)"
      ]
     },
     "execution_count": 99,
     "metadata": {},
     "output_type": "execute_result"
    }
   ],
   "source": [
    "P2 = P * cofactor\n",
    "P2"
   ]
  },
  {
   "cell_type": "code",
   "execution_count": 100,
   "id": "727c30f5",
   "metadata": {
    "pycharm": {
     "name": "#%%\n"
    }
   },
   "outputs": [
    {
     "data": {
      "text/plain": [
       "(0 : 1 : 0)"
      ]
     },
     "execution_count": 100,
     "metadata": {},
     "output_type": "execute_result"
    }
   ],
   "source": [
    "P2 * r"
   ]
  }
 ],
 "metadata": {
  "kernelspec": {
   "display_name": "SageMath 9.7",
   "language": "sage",
   "name": "sagemath-9.7"
  },
  "language_info": {
   "codemirror_mode": {
    "name": "ipython",
    "version": 3
   },
   "file_extension": ".py",
   "mimetype": "text/x-python",
   "name": "python",
   "nbconvert_exporter": "python",
   "pygments_lexer": "ipython3",
   "version": "3.10.5"
  }
 },
 "nbformat": 4,
 "nbformat_minor": 5
}
