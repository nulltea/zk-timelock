{
 "cells": [
  {
   "cell_type": "markdown",
   "metadata": {
    "pycharm": {
     "name": "#%% md\n"
    }
   },
   "source": [
    "Use Cocks-Pinch algorithm to generate a curve that embeds BLS12-381."
   ]
  },
  {
   "cell_type": "code",
   "execution_count": 1,
   "metadata": {
    "pycharm": {
     "name": "#%%\n"
    }
   },
   "outputs": [],
   "source": [
    "import ecfactory.cocks_pinch as cp;\n",
    "from ecfactory.utils import print_curve;"
   ]
  },
  {
   "cell_type": "code",
   "execution_count": 2,
   "metadata": {
    "pycharm": {
     "name": "#%%\n"
    }
   },
   "outputs": [],
   "source": [
    "k = 6 # embedding degree\n",
    "r = 4002409555221667393417789825735904156556882819939007885332058136124031650490837864442687629129015664037894272559787 # size of prime order subgroup"
   ]
  },
  {
   "cell_type": "code",
   "execution_count": 3,
   "metadata": {
    "pycharm": {
     "name": "#%%\n"
    }
   },
   "outputs": [
    {
     "name": "stdout",
     "output_type": "stream",
     "text": [
      "Elliptic curve over a field of size 295503611358371871261483642285946461212505964410486117072477123879821648800512842936645880611839386863194429719608911165194106122111991970326919481694577816133230927037325081362686760604669607538666083191490228549439813772961889017870397955616817493 with trace 34380436958152330692656400633838875259429761008305401795822353887561459750048448075820029116261914197050050610649092988556685, a subgroup of order 4002409555221667393417789825735904156556882819939007885332058136124031650490837864442687629129015664037894272559787 with embedding degree 6, and fundamental discriminant -3\n"
     ]
    }
   ],
   "source": [
    "while True:\n",
    "    r,k,D = cp.gen_params_from_r(r,k) # find a valid D\n",
    "    q,t,r,k,D = cp.run(r,k,D) # use CP method to solve for q and t\n",
    "    if D == -3:\n",
    "        break\n",
    "print_curve(q,t,r,k,D)"
   ]
  },
  {
   "cell_type": "markdown",
   "metadata": {
    "pycharm": {
     "name": "#%% md\n"
    }
   },
   "source": [
    "Obtain the size of fq field and number of limbs."
   ]
  },
  {
   "cell_type": "code",
   "execution_count": 6,
   "metadata": {
    "pycharm": {
     "name": "#%%\n"
    }
   },
   "outputs": [
    {
     "data": {
      "text/plain": [
       "778"
      ]
     },
     "execution_count": 6,
     "metadata": {},
     "output_type": "execute_result"
    }
   ],
   "source": [
    "fq_size = log(q, 2).n()\n",
    "fq_size.round()"
   ]
  },
  {
   "cell_type": "code",
   "execution_count": 7,
   "metadata": {
    "pycharm": {
     "name": "#%%\n"
    }
   },
   "outputs": [
    {
     "data": {
      "text/plain": [
       "12"
      ]
     },
     "execution_count": 7,
     "metadata": {},
     "output_type": "execute_result"
    }
   ],
   "source": [
    "num_libs = fq_size / 64\n",
    "num_libs.round()"
   ]
  },
  {
   "cell_type": "markdown",
   "metadata": {
    "pycharm": {
     "name": "#%% md\n"
    }
   },
   "source": [
    "Obtain a rough estimate of the bit security of a pairing-friendly curve by estimating the cost of special number field sieve for Fqk."
   ]
  },
  {
   "cell_type": "code",
   "execution_count": 4,
   "metadata": {
    "pycharm": {
     "name": "#%%\n"
    }
   },
   "outputs": [
    {
     "data": {
      "text/plain": [
       "127.425077398341"
      ]
     },
     "execution_count": 4,
     "metadata": {},
     "output_type": "execute_result"
    }
   ],
   "source": [
    "c = 32\n",
    "_k = -7\n",
    "l = log(q^k)\n",
    "cost_f = log((2^(_k) * exp(pow(c / 9, 1/3) * pow(l, 1/3) * pow(log(l), 2 / 3))).n())/log(2).n()\n",
    "cost_f.n()"
   ]
  },
  {
   "cell_type": "markdown",
   "metadata": {
    "pycharm": {
     "name": "#%% md\n"
    }
   },
   "source": [
    "Use the complex multiplication (CM) method to find a short Weierstrass curve."
   ]
  },
  {
   "cell_type": "code",
   "execution_count": 5,
   "metadata": {
    "pycharm": {
     "name": "#%%\n"
    }
   },
   "outputs": [],
   "source": [
    "import ecfactory.complex_multiplication as cm"
   ]
  },
  {
   "cell_type": "code",
   "execution_count": 6,
   "metadata": {
    "pycharm": {
     "name": "#%%\n"
    }
   },
   "outputs": [
    {
     "data": {
      "text/plain": [
       "Elliptic Curve defined by y^2 = x^3 + 1492992 over Finite Field of size 295503611358371871261483642285946461212505964410486117072477123879821648800512842936645880611839386863194429719608911165194106122111991970326919481694577816133230927037325081362686760604669607538666083191490228549439813772961889017870397955616817493"
      ]
     },
     "execution_count": 6,
     "metadata": {},
     "output_type": "execute_result"
    }
   ],
   "source": [
    "E = cm.make_curve(q,t,r,k,D)\n",
    "E"
   ]
  },
  {
   "cell_type": "code",
   "execution_count": null,
   "metadata": {
    "pycharm": {
     "name": "#%%\n"
    }
   },
   "outputs": [],
   "source": [
    "Results:"
   ]
  },
  {
   "cell_type": "code",
   "execution_count": null,
   "metadata": {
    "pycharm": {
     "name": "#%%\n"
    }
   },
   "outputs": [],
   "source": [
    "q = 295503600487609209767477276582588192105838003373473978531922424331997272227126585860738635311959902166624630668339343937124104260142837220124289171398586835023155899460519637016554145228170293071644222198789815853233238109957089390351099654092925617\n",
    "t = 34380436325771620967632952473828082793156904272317916245459108005096274242451447298267646534317268794665575692661797924110339\n",
    "r = 4002409555221667393417789825735904156556882819939007885332058136124031650490837864442687629129015664037894272559787\n",
    "k = 6\n",
    "D = -3\n"
   ]
  },
  {
   "cell_type": "code",
   "execution_count": null,
   "metadata": {
    "pycharm": {
     "name": "#%%\n"
    }
   },
   "outputs": [],
   "source": [
    "q = 295503600487609209767477276582588192105838003373473978531922424331997272227126585860738635311959902166624630668339343937124104260142837220124289171398586835023155899460519637016554145228170293071644222198789815853233238109957089390351099654092925617\n",
    "t = 34380436325771620967632952473828082793156904272317916245459108005096274242451447298267646534317268794665575692661797924110339\n",
    "r = 4002409555221667393417789825735904156556882819939007885332058136124031650490837864442687629129015664037894272559787\n",
    "k = 6\n",
    "D = -3\n"
   ]
  }
 ],
 "metadata": {
  "kernelspec": {
   "display_name": "SageMath 9.7",
   "language": "sage",
   "name": "sagemath-9.7"
  },
  "language_info": {
   "codemirror_mode": {
    "name": "ipython",
    "version": 3
   },
   "file_extension": ".py",
   "mimetype": "text/x-python",
   "name": "python",
   "nbconvert_exporter": "python",
   "pygments_lexer": "ipython3",
   "version": "3.10.5"
  }
 },
 "nbformat": 4,
 "nbformat_minor": 1
}
