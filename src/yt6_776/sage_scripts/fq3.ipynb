{
 "cells": [
  {
   "cell_type": "code",
   "execution_count": 326,
   "id": "01f35ca5",
   "metadata": {
    "pycharm": {
     "name": "#%%\n"
    }
   },
   "outputs": [],
   "source": [
    "q = 302876569457825540224058720088493814197684678175517897646382999490010176693949664027430922002605277999717929660119065492046541203055097398745672542166604177101118255582761412697357085679229754433270902868922720449830309670836412672963"
   ]
  },
  {
   "cell_type": "code",
   "execution_count": 327,
   "id": "f606f731",
   "metadata": {
    "pycharm": {
     "name": "#%%\n"
    }
   },
   "outputs": [],
   "source": [
    "F = GF(q)"
   ]
  },
  {
   "cell_type": "code",
   "execution_count": 328,
   "id": "a03e885c",
   "metadata": {
    "pycharm": {
     "name": "#%%\n"
    }
   },
   "outputs": [],
   "source": [
    "K3.<x> = PolynomialRing(F)"
   ]
  },
  {
   "cell_type": "code",
   "execution_count": 329,
   "id": "a2aaccd7",
   "metadata": {},
   "outputs": [
    {
     "data": {
      "text/plain": [
       "2"
      ]
     },
     "execution_count": 329,
     "metadata": {},
     "output_type": "execute_result"
    }
   ],
   "source": [
    "nqr = 0;\n",
    "for n in range(0, 40):\n",
    "        try:\n",
    "            K.<a> = GF(q**3, name='a', modulus=x ^ 3 - n)\n",
    "            F3.<u> = F.extension(x ^ 3 - n)\n",
    "            if not u.is_square():\n",
    "                nqr = Integer(n)\n",
    "                break\n",
    "        except:\n",
    "            pass\n",
    "nqr"
   ]
  },
  {
   "cell_type": "code",
   "execution_count": 340,
   "id": "7f899a15",
   "metadata": {
    "pycharm": {
     "name": "#%%\n"
    }
   },
   "outputs": [
    {
     "data": {
      "text/plain": [
       "13892072371442397287931655585430128431997263589401018079396922873057521547747872729519269022027229802384961328069180580250834482468346650253293052350695421482870798393078042132692913284671510607105098027837410490812226093827571877377723214978344654861028594925559093698702328369176625574681489343390132965491774869991208600424235606221251177204292758378599917147706606494638414877053960993619484536912908316341745095592823240767010202592668475364708499799771832025473532849049366303637145128716162674689217547106253627506738332498333094920431281466428036061302581864565782799896691197052846599910022340942944360891315889076158675339021307946862179962173956378551840994152073445276017640292408364480173"
      ]
     },
     "execution_count": 340,
     "metadata": {},
     "output_type": "execute_result"
    }
   ],
   "source": [
    "t = (q^3 - 1) // pow(2, 1)\n",
    "t"
   ]
  },
  {
   "cell_type": "code",
   "execution_count": 341,
   "id": "1179b29c",
   "metadata": {
    "pycharm": {
     "name": "#%%\n"
    }
   },
   "outputs": [
    {
     "data": {
      "text/plain": [
       "6946036185721198852746341466422653329046088731043740581274125305821428009187878491700439609268434339627178965485062603497828191183179057239212840355108145199911357708490391121640069729885431554892192801213548047546054967608647340869014476651220945652527990991005351172482143917878994143963322104490447519904098657040126265921685820506707313305232071143817908962781370707079320242512342877481836362149383163040231602819199863839197463874121301791442490143502375442285150828264327744197273647873924198543507265611122503505624164474920036599182503940269756240302177337870406976761243201858574417435675443035475717292548233608266135061261510381805149090635520886945687445154911371099224415730217049391104"
      ]
     },
     "execution_count": 341,
     "metadata": {},
     "output_type": "execute_result"
    }
   ],
   "source": [
    "Integer(((t - 1)//2).n())"
   ]
  },
  {
   "cell_type": "code",
   "execution_count": 342,
   "id": "c55956ef",
   "metadata": {
    "pycharm": {
     "name": "#%%\n"
    }
   },
   "outputs": [
    {
     "name": "stdout",
     "output_type": "stream",
     "text": [
      "0x4b9107145c0adb56,\n",
      "0xbfd631fd08c7381d,\n",
      "0x6f9a38ff8876a8e6,\n",
      "0x97118348413f3a1a,\n",
      "0xff7b030d885e3421,\n",
      "0x85a0aec5dcffceab,\n",
      "0x7a4cf9f61d35b47a,\n",
      "0x9639f0a8d57368d4,\n",
      "0x2bfb361aed36d6c0,\n",
      "0x5b96a842dc59e71e,\n",
      "0xa5355e676ce44f99,\n",
      "0xb4dbcb2a1aecd5d3,\n",
      "0x4c9a7e634710ef25,\n",
      "0xdc93cb5faacd7141,\n",
      "0x050715e18eb3a4cd,\n",
      "0xb75bf2a4a136a298,\n",
      "0xb734e644dfb0b22b,\n",
      "0x6219db7b7784697f,\n",
      "0xcb8079c68fade162,\n",
      "0xf9570d73b7212667,\n",
      "0x0704f3a06001c87f,\n",
      "0x5437911c23df35de,\n",
      "0x5f86ee5c0c072adf,\n",
      "0x2829526f230ed76e,\n",
      "0x7e96d82e6a1b5d58,\n",
      "0x7a5f3fa8d26d2555,\n",
      "0xc007ed25b9244092,\n",
      "0x9204f5edf1897e76,\n",
      "0x8f50d93bd1245e6c,\n",
      "0x8ac2570174804fc4,\n",
      "0xf5b00063bd49c91d,\n",
      "0x4640f8d38faad24a,\n",
      "0xdb19c4dc44929a4b,\n",
      "0x946d373fe6f2dc2b,\n",
      "0x4ca95762eb86cc4f,\n",
      "0xac6da288c2a7a874,\n",
      "0x1c52d1\n"
     ]
    }
   ],
   "source": [
    "from textwrap import wrap\n",
    "print(str(',\\n').join(list(map(lambda x: '0x' + x[::-1], wrap(hex(((t - 1) / 2))[2:][::-1], 16)))))"
   ]
  },
  {
   "cell_type": "code",
   "execution_count": 343,
   "id": "0d101259",
   "metadata": {
    "pycharm": {
     "name": "#%%\n"
    }
   },
   "outputs": [
    {
     "data": {
      "text/plain": [
       "302876569457825524966963978832434590406053779156603009624470901835395191291637690891553592487879420793954488870041093531751263054715908884521658734786033067299584382405655097608680895035965608802429825491308358593497932819026331828224"
      ]
     },
     "execution_count": 343,
     "metadata": {},
     "output_type": "execute_result"
    }
   ],
   "source": [
    "Integer(pow(u, t, q).n())"
   ]
  },
  {
   "cell_type": "code",
   "execution_count": 334,
   "id": "815e705e",
   "metadata": {
    "pycharm": {
     "name": "#%%\n"
    }
   },
   "outputs": [
    {
     "data": {
      "text/plain": [
       "1"
      ]
     },
     "execution_count": 334,
     "metadata": {},
     "output_type": "execute_result"
    }
   ],
   "source": [
    "pow(nqr, (1 - 1)/3, q)"
   ]
  },
  {
   "cell_type": "code",
   "execution_count": 335,
   "id": "3abeb0c9",
   "metadata": {
    "pycharm": {
     "name": "#%%\n"
    }
   },
   "outputs": [
    {
     "data": {
      "text/plain": [
       "142530150333094371869703769686731425964913314771299981144308427540645932934092011898942172819751386393848850418097664734615766850620581003523120817544498576459207635586430646422648400528506404609884695553029564408157616901335302173985"
      ]
     },
     "execution_count": 335,
     "metadata": {},
     "output_type": "execute_result"
    }
   ],
   "source": [
    "pow(nqr, (q - 1)/3, q)"
   ]
  },
  {
   "cell_type": "code",
   "execution_count": 336,
   "id": "7afc2491",
   "metadata": {
    "pycharm": {
     "name": "#%%\n"
    }
   },
   "outputs": [
    {
     "data": {
      "text/plain": [
       "160346419124731168354354950401762388232771363404217916502074571949364243759857652128488749182853891605869079242021400757430774352434516395222551724622105600641910619996330766274708685150723349823386207315893156041672692769501110498977"
      ]
     },
     "execution_count": 336,
     "metadata": {},
     "output_type": "execute_result"
    }
   ],
   "source": [
    "pow(nqr, (q^2 - 1)/3, q)"
   ]
  },
  {
   "cell_type": "code",
   "execution_count": 337,
   "id": "d0dd2c52",
   "metadata": {
    "pycharm": {
     "name": "#%%\n"
    }
   },
   "outputs": [
    {
     "data": {
      "text/plain": [
       "1"
      ]
     },
     "execution_count": 337,
     "metadata": {},
     "output_type": "execute_result"
    }
   ],
   "source": [
    "pow(2, (2 * 1 - 2)/3, q)"
   ]
  },
  {
   "cell_type": "code",
   "execution_count": 338,
   "id": "554a9386",
   "metadata": {
    "pycharm": {
     "name": "#%%\n"
    }
   },
   "outputs": [
    {
     "data": {
      "text/plain": [
       "160346419124731168354354950401762388232771363404217916502074571949364243759857652128488749182853891605869079242021400757430774352434516395222551724622105600641910619996330766274708685150723349823386207315893156041672692769501110498977"
      ]
     },
     "execution_count": 338,
     "metadata": {},
     "output_type": "execute_result"
    }
   ],
   "source": [
    "pow(2, (2 * q - 2)/3, q)"
   ]
  },
  {
   "cell_type": "code",
   "execution_count": 339,
   "id": "2824c3bc",
   "metadata": {
    "pycharm": {
     "name": "#%%\n"
    }
   },
   "outputs": [
    {
     "data": {
      "text/plain": [
       "142530150333094371869703769686731425964913314771299981144308427540645932934092011898942172819751386393848850418097664734615766850620581003523120817544498576459207635586430646422648400528506404609884695553029564408157616901335302173985"
      ]
     },
     "execution_count": 339,
     "metadata": {},
     "output_type": "execute_result"
    }
   ],
   "source": [
    "pow(2, (2 * q^2 - 2)/3, q)"
   ]
  }
 ],
 "metadata": {
  "kernelspec": {
   "display_name": "SageMath 9.7",
   "language": "sage",
   "name": "sagemath-9.7"
  },
  "language_info": {
   "codemirror_mode": {
    "name": "ipython",
    "version": 3
   },
   "file_extension": ".py",
   "mimetype": "text/x-python",
   "name": "python",
   "nbconvert_exporter": "python",
   "pygments_lexer": "ipython3",
   "version": "3.10.5"
  }
 },
 "nbformat": 4,
 "nbformat_minor": 5
}
