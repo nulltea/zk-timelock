{
 "cells": [
  {
   "cell_type": "code",
   "execution_count": 31,
   "id": "385a8d04",
   "metadata": {
    "pycharm": {
     "name": "#%%\n"
    }
   },
   "outputs": [],
   "source": [
    "q = 302876569457825540224058720088493814197684678175517897646382999490010176693949664027430922002605277999717929660119065492046541203055097398745672542166604177101118255582761412697357085679229754433270902868922720449830309670836412672963\n",
    "rqs = 2"
   ]
  },
  {
   "cell_type": "code",
   "execution_count": 32,
   "id": "61a8fda4",
   "metadata": {
    "pycharm": {
     "name": "#%%\n"
    }
   },
   "outputs": [],
   "source": [
    "F = GF(q)"
   ]
  },
  {
   "cell_type": "code",
   "execution_count": 33,
   "id": "0eda5e9e",
   "metadata": {
    "pycharm": {
     "name": "#%%\n"
    }
   },
   "outputs": [],
   "source": [
    "K3.<x> = PolynomialRing(F)"
   ]
  },
  {
   "cell_type": "code",
   "execution_count": 34,
   "id": "d7fc44b8",
   "metadata": {
    "pycharm": {
     "name": "#%%\n"
    }
   },
   "outputs": [],
   "source": [
    "K.<a> = GF(q**3, name='a', modulus=x ^ 3 - rqs)"
   ]
  },
  {
   "cell_type": "code",
   "execution_count": 35,
   "id": "723d8700",
   "metadata": {
    "pycharm": {
     "name": "#%%\n"
    }
   },
   "outputs": [],
   "source": [
    "F3.<u> = F.extension(x ^ 3 - rqs)"
   ]
  },
  {
   "cell_type": "code",
   "execution_count": 36,
   "id": "f96a66ec",
   "metadata": {
    "pycharm": {
     "name": "#%%\n"
    }
   },
   "outputs": [],
   "source": [
    "K6.<y> = PolynomialRing(F3)"
   ]
  },
  {
   "cell_type": "code",
   "execution_count": 37,
   "id": "aa154cee",
   "metadata": {
    "pycharm": {
     "name": "#%%\n"
    }
   },
   "outputs": [],
   "source": [
    "F6.<v> = F3.extension(y ^ 2 - u)"
   ]
  },
  {
   "cell_type": "code",
   "execution_count": 38,
   "id": "8e7ea1ff",
   "metadata": {
    "pycharm": {
     "name": "#%%\n"
    }
   },
   "outputs": [
    {
     "data": {
      "text/plain": [
       "1"
      ]
     },
     "execution_count": 38,
     "metadata": {},
     "output_type": "execute_result"
    }
   ],
   "source": [
    "pow(u, (1 - 1) / 2, q)"
   ]
  },
  {
   "cell_type": "code",
   "execution_count": 39,
   "id": "9018b414",
   "metadata": {
    "pycharm": {
     "name": "#%%\n"
    }
   },
   "outputs": [
    {
     "data": {
      "text/plain": [
       "142530150333094371869703769686731425964913314771299981144308427540645932934092011898942172819751386393848850418097664734615766850620581003523120817544498576459207635586430646422648400528506404609884695553029564408157616901335302173986"
      ]
     },
     "execution_count": 39,
     "metadata": {},
     "output_type": "execute_result"
    }
   ],
   "source": [
    "pow(u, (q - 1) / 2, q)"
   ]
  },
  {
   "cell_type": "code",
   "execution_count": 40,
   "id": "24181e6d",
   "metadata": {
    "pycharm": {
     "name": "#%%\n"
    }
   },
   "outputs": [
    {
     "data": {
      "text/plain": [
       "142530150333094371869703769686731425964913314771299981144308427540645932934092011898942172819751386393848850418097664734615766850620581003523120817544498576459207635586430646422648400528506404609884695553029564408157616901335302173985"
      ]
     },
     "execution_count": 40,
     "metadata": {},
     "output_type": "execute_result"
    }
   ],
   "source": [
    "pow(u, (q^2 - 1) / 2, q)"
   ]
  },
  {
   "cell_type": "code",
   "execution_count": 41,
   "id": "7e63c1e7",
   "metadata": {
    "pycharm": {
     "name": "#%%\n"
    }
   },
   "outputs": [
    {
     "data": {
      "text/plain": [
       "302876569457825540224058720088493814197684678175517897646382999490010176693949664027430922002605277999717929660119065492046541203055097398745672542166604177101118255582761412697357085679229754433270902868922720449830309670836412672962"
      ]
     },
     "execution_count": 41,
     "metadata": {},
     "output_type": "execute_result"
    }
   ],
   "source": [
    "pow(u, (q^3 - 1) / 2, q)"
   ]
  },
  {
   "cell_type": "code",
   "execution_count": 42,
   "id": "bddc7aab",
   "metadata": {
    "pycharm": {
     "name": "#%%\n"
    }
   },
   "outputs": [
    {
     "data": {
      "text/plain": [
       "160346419124731168354354950401762388232771363404217916502074571949364243759857652128488749182853891605869079242021400757430774352434516395222551724622105600641910619996330766274708685150723349823386207315893156041672692769501110498977"
      ]
     },
     "execution_count": 42,
     "metadata": {},
     "output_type": "execute_result"
    }
   ],
   "source": [
    "pow(u, (q^4 - 1) / 2, q)"
   ]
  },
  {
   "cell_type": "code",
   "execution_count": 43,
   "id": "089edfeb",
   "metadata": {
    "pycharm": {
     "name": "#%%\n"
    }
   },
   "outputs": [
    {
     "data": {
      "text/plain": [
       "160346419124731168354354950401762388232771363404217916502074571949364243759857652128488749182853891605869079242021400757430774352434516395222551724622105600641910619996330766274708685150723349823386207315893156041672692769501110498978"
      ]
     },
     "execution_count": 43,
     "metadata": {},
     "output_type": "execute_result"
    }
   ],
   "source": [
    "pow(u, (q^5 - 1) / 2, q)\n"
   ]
  }
 ],
 "metadata": {
  "kernelspec": {
   "display_name": "SageMath 9.7",
   "language": "sage",
   "name": "sagemath-9.7"
  },
  "language_info": {
   "codemirror_mode": {
    "name": "ipython",
    "version": 3
   },
   "file_extension": ".py",
   "mimetype": "text/x-python",
   "name": "python",
   "nbconvert_exporter": "python",
   "pygments_lexer": "ipython3",
   "version": "3.10.5"
  }
 },
 "nbformat": 4,
 "nbformat_minor": 5
}
