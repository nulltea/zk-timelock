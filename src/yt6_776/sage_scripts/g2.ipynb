{
 "cells": [
  {
   "cell_type": "code",
   "execution_count": 37,
   "id": "2cdbce17",
   "metadata": {
    "pycharm": {
     "name": "#%%\n"
    }
   },
   "outputs": [],
   "source": [
    "q = 302876569457825540224058720088493814197684678175517897646382999490010176693949664027430922002605277999717929660119065492046541203055097398745672542166604177101118255582761412697357085679229754433270902868922720449830309670836412672963\n",
    "t = 556334928175811767685866265168019893274028091673155517508216967661521459911236919644960862098008653606888062617430745\n",
    "r = 4002409555221667393417789825735904156556882819939007885332058136124031650490837864442687629129015664037894272559787\n",
    "k = 6\n",
    "D = -3"
   ]
  },
  {
   "cell_type": "code",
   "execution_count": 38,
   "id": "cc24e18e",
   "metadata": {
    "pycharm": {
     "name": "#%%\n"
    }
   },
   "outputs": [],
   "source": [
    "coeff_b = 93312"
   ]
  },
  {
   "cell_type": "code",
   "execution_count": 41,
   "id": "d50b9e80",
   "metadata": {
    "pycharm": {
     "name": "#%%\n"
    }
   },
   "outputs": [
    {
     "data": {
      "text/plain": [
       "186624"
      ]
     },
     "execution_count": 41,
     "metadata": {},
     "output_type": "execute_result"
    }
   ],
   "source": [
    "coeff_b * 2 % q"
   ]
  },
  {
   "cell_type": "code",
   "execution_count": 42,
   "id": "5c449ee6",
   "metadata": {
    "pycharm": {
     "name": "#%%\n"
    }
   },
   "outputs": [],
   "source": [
    "F = GF(q)\n",
    "K3.<x> = PolynomialRing(F)\n",
    "K.<a> = GF(q**3, name='a', modulus=x ^ 3 - 2)\n",
    "F3.<u> = F.extension(x ^ 3 - 2)"
   ]
  },
  {
   "cell_type": "code",
   "execution_count": 43,
   "id": "78c34412",
   "metadata": {
    "pycharm": {
     "name": "#%%\n"
    }
   },
   "outputs": [
    {
     "data": {
      "text/plain": [
       "186624"
      ]
     },
     "execution_count": 43,
     "metadata": {},
     "output_type": "execute_result"
    }
   ],
   "source": [
    "b = (u)^3 * coeff_b\n",
    "b"
   ]
  },
  {
   "cell_type": "code",
   "execution_count": 44,
   "id": "85be05e8",
   "metadata": {
    "pycharm": {
     "name": "#%%\n"
    }
   },
   "outputs": [],
   "source": [
    "E = EllipticCurve(F3, [0, 0, 0, 0, b])"
   ]
  },
  {
   "cell_type": "code",
   "execution_count": 45,
   "id": "0e37b138",
   "metadata": {
    "pycharm": {
     "name": "#%%\n"
    }
   },
   "outputs": [
    {
     "data": {
      "text/plain": [
       "27784144742884794575863311170860256863994527178802036158793845746115043095495745459038538044054459604769922656138361160501668964936693300506586104701390842965741596786156084265385826569343021214210196055674820981624452187655143754755446429956689309722057189851118187397404656738353251149362978686780265930983549739982417200848471212442502354408585516423887808967331508472554542490957064891101103855399381277885705817257121522255280465272604812112271670735769486739165546485220084129065175912669144640144171278062280260806364142917217303796306579766891912670973447022432633027398619880473377786137771419900402776208404983368158639726498366934303598353758595230867904179411238196512398379565982940361668"
      ]
     },
     "execution_count": 45,
     "metadata": {},
     "output_type": "execute_result"
    }
   ],
   "source": [
    "num_points = E.cardinality()\n",
    "num_points"
   ]
  },
  {
   "cell_type": "code",
   "execution_count": 46,
   "id": "aa800a34",
   "metadata": {
    "pycharm": {
     "name": "#%%\n"
    }
   },
   "outputs": [
    {
     "data": {
      "text/plain": [
       "6941854490287416822218664597754668652143094574673152055452564665091337663557813683323522078339767645328995016665729694181196318960273019040010245917750423593642667029747797843187200256474492327011226485048037960992760807137836996446972133414611245935494374678291413588414748434761913304086678792584675090949433601662017384858791999297094268391818764440841632520982393073429678577932587051437115462144290886467647258015528783608149848955964072571790353364759981182897181017243890149075169787442282722484323656397516324793845549180875550883907715282669875592903164849390743822650495621964"
      ]
     },
     "execution_count": 46,
     "metadata": {},
     "output_type": "execute_result"
    }
   ],
   "source": [
    "cofactor = num_points // r\n",
    "cofactor"
   ]
  },
  {
   "cell_type": "code",
   "execution_count": 47,
   "id": "1e17f9ef",
   "metadata": {
    "pycharm": {
     "name": "#%%\n"
    },
    "scrolled": true
   },
   "outputs": [
    {
     "name": "stdout",
     "output_type": "stream",
     "text": [
      "0x7299d36e49a65b4c,\n",
      "0x646e5566776c4280,\n",
      "0x9cf89e66c139bd89,\n",
      "0xefdd418b69ffa908,\n",
      "0x2db043096b8cf96b,\n",
      "0x1b674c2c114f10e1,\n",
      "0xbfe2911b0fd26a84,\n",
      "0x4b72040fdfed891d,\n",
      "0x44a158e2cbd28eea,\n",
      "0x421d656206486973,\n",
      "0x501e1cffef94f73d,\n",
      "0x83228c366b33ef59,\n",
      "0x66735fb264b46182,\n",
      "0x516aeccfc880973b,\n",
      "0x93225347eb72ca52,\n",
      "0xc4f5d84fcaf3ef63,\n",
      "0x69aea24ec7e245ac,\n",
      "0x90ca9d9c49f0f39a,\n",
      "0x6d188de3b5fbbacd,\n",
      "0x22bbf03415451160,\n",
      "0xa2243445cd159355,\n",
      "0xf4ca7114488a35f7,\n",
      "0x24a479dce9e5ec9e,\n",
      "0xf964b1e7077bed3f,\n",
      "0x9d4399ce73aa1dfb,\n",
      "0x2cf52773c27c5f93,\n",
      "0xae2f2f332fa9e341,\n",
      "0x979a6d4b469a96f9,\n",
      "0x1b2a0b75ca101331,\n",
      "0xd6a4aa7da7261a1e,\n",
      "0x45b54d1\n"
     ]
    }
   ],
   "source": [
    "from textwrap import wrap\n",
    "print(str(',\\n').join(list(map(lambda x: '0x' + x[::-1], wrap(hex(cofactor)[2:][::-1], 16)))))"
   ]
  },
  {
   "cell_type": "code",
   "execution_count": 48,
   "id": "369d01e0",
   "metadata": {
    "pycharm": {
     "name": "#%%\n"
    }
   },
   "outputs": [
    {
     "data": {
      "text/plain": [
       "3494581623768189988956369397084851204455421798993792282668752336712368638399588295027973391415640517951751405179949"
      ]
     },
     "execution_count": 48,
     "metadata": {},
     "output_type": "execute_result"
    }
   ],
   "source": [
    "cofactor_inv = pow(cofactor, -1, r)\n",
    "cofactor_inv"
   ]
  },
  {
   "cell_type": "code",
   "execution_count": 53,
   "id": "531aad46",
   "metadata": {
    "pycharm": {
     "name": "#%%\n"
    }
   },
   "outputs": [
    {
     "data": {
      "text/plain": [
       "True"
      ]
     },
     "execution_count": 53,
     "metadata": {},
     "output_type": "execute_result"
    }
   ],
   "source": [
    "x_test = u + 4\n",
    "res_test = pow(x_test, 3)  + b\n",
    "\n",
    "res_test.is_square()"
   ]
  },
  {
   "cell_type": "code",
   "execution_count": 54,
   "id": "95bc9ad2",
   "metadata": {
    "pycharm": {
     "name": "#%%\n"
    }
   },
   "outputs": [
    {
     "data": {
      "text/plain": [
       "202664881628694224315167344759505386064509999325556773786764744524818449137995610878145038107712783695267645576332247988683304598471739679235374028042456417550203062592002944749295574945785676499378000374163877725126362953145861446949*u^2 + 138700844240241385022688901951335370690951520802373238304711117824346353465126875803362770152202032274253858638224479250285015291482557318401775743760225525332477430164725218799515792911056007504735930436925484514699042906485190706034*u + 8690777157942784190117793514006269217676445993004680492671280598062021473105063716243301816794332473657219760727788903460375459038949507141055170772103887393955022552658642065980368661097147557190733003651483957199986377276377586399"
      ]
     },
     "execution_count": 54,
     "metadata": {},
     "output_type": "execute_result"
    }
   ],
   "source": [
    "res_test.sqrt()"
   ]
  },
  {
   "cell_type": "code",
   "execution_count": 55,
   "id": "b28a59e5",
   "metadata": {
    "pycharm": {
     "name": "#%%\n"
    }
   },
   "outputs": [],
   "source": [
    "P = E(u+4, res_test.sqrt())"
   ]
  },
  {
   "cell_type": "code",
   "execution_count": 56,
   "id": "a1b339a0",
   "metadata": {
    "pycharm": {
     "name": "#%%\n"
    }
   },
   "outputs": [
    {
     "data": {
      "text/plain": [
       "(164556278003996755176361799495675719280114256849303218761734345175591590832644876672139909589452081664409841634550594078427014729397964543010071474816992798863886119895977522730054071967086692598745589523819269564700010574843630953102 : 67016250963755086203173254309679945224734374807902527002243740474086000924233545085118141733061688330009368654950011895354183111279277445751706915624111397761386336962017484330726714813954017247023937614740353794632983763711734444429 : 1)"
      ]
     },
     "execution_count": 56,
     "metadata": {},
     "output_type": "execute_result"
    }
   ],
   "source": [
    "P2 = P * cofactor\n",
    "P2"
   ]
  },
  {
   "cell_type": "code",
   "execution_count": 28,
   "id": "727c30f5",
   "metadata": {
    "pycharm": {
     "name": "#%%\n"
    }
   },
   "outputs": [
    {
     "data": {
      "text/plain": [
       "(0 : 1 : 0)"
      ]
     },
     "execution_count": 28,
     "metadata": {},
     "output_type": "execute_result"
    }
   ],
   "source": [
    "P2 * r"
   ]
  }
 ],
 "metadata": {
  "kernelspec": {
   "display_name": "SageMath 9.7",
   "language": "sage",
   "name": "sagemath-9.7"
  },
  "language_info": {
   "codemirror_mode": {
    "name": "ipython",
    "version": 3
   },
   "file_extension": ".py",
   "mimetype": "text/x-python",
   "name": "python",
   "nbconvert_exporter": "python",
   "pygments_lexer": "ipython3",
   "version": "3.10.5"
  }
 },
 "nbformat": 4,
 "nbformat_minor": 5
}
