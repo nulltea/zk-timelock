{
 "cells": [
  {
   "cell_type": "code",
   "execution_count": 12,
   "id": "e96ab0f3",
   "metadata": {
    "pycharm": {
     "name": "#%%\n"
    }
   },
   "outputs": [],
   "source": [
    "q = 302876569457825540224058720088493814197684678175517897646382999490010176693949664027430922002605277999717929660119065492046541203055097398745672542166604177101118255582761412697357085679229754433270902868922720449830309670836412672963\n",
    "t = 556334928175811767685866265168019893274028091673155517508216967661521459911236919644960862098008653606888062617430745\n",
    "r = 4002409555221667393417789825735904156556882819939007885332058136124031650490837864442687629129015664037894272559787\n",
    "k = 6\n",
    "D = -3"
   ]
  },
  {
   "cell_type": "code",
   "execution_count": 13,
   "id": "e82f85b4",
   "metadata": {
    "pycharm": {
     "name": "#%%\n"
    }
   },
   "outputs": [
    {
     "data": {
      "text/plain": [
       "556334928175811767685866265168019893274028091673155517508216967661521459911236919644960862098008653606888062617430744"
      ]
     },
     "execution_count": 13,
     "metadata": {},
     "output_type": "execute_result"
    }
   ],
   "source": [
    "t - 1"
   ]
  },
  {
   "cell_type": "code",
   "execution_count": 14,
   "id": "01dfac99",
   "metadata": {
    "pycharm": {
     "name": "#%%\n"
    }
   },
   "outputs": [
    {
     "name": "stdout",
     "output_type": "stream",
     "text": [
      "0x2b76ffffffd0aad8,\n",
      "0x857bd75daaa5ffdc,\n",
      "0xe53606a1d90e3c25,\n",
      "0x472fc737a350a5d7,\n",
      "0x271d7726698da745,\n",
      "0x1e94ba2d387235c7,\n",
      "0xe\n"
     ]
    }
   ],
   "source": [
    "from textwrap import wrap\n",
    "print(str(',\\n').join(list(map(lambda x: '0x' + x[::-1], wrap(hex(t-1)[2:][::-1], 16)))))"
   ]
  },
  {
   "cell_type": "code",
   "execution_count": 15,
   "id": "f89a69e6",
   "metadata": {
    "pycharm": {
     "name": "#%%\n"
    }
   },
   "outputs": [
    {
     "data": {
      "text/plain": [
       "22919747482328918779195552807557153378263275382248913474754417338686234977796110770071374234308785823001501304992805286520370115261117763376753771351268433978229298893174796506188769587866423300277074266486905085085839877155914118194593499683449625778673995742235153823377062611320194424808797981799696400121774569356591311177633181475942475040669106261"
      ]
     },
     "execution_count": 15,
     "metadata": {},
     "output_type": "execute_result"
    }
   ],
   "source": [
    "remaining = (q ^ 6 - 1) // (q ^ 3 - 1) // (q + 1) // r\n",
    "remaining"
   ]
  },
  {
   "cell_type": "code",
   "execution_count": 16,
   "id": "20db7dbb",
   "metadata": {
    "pycharm": {
     "name": "#%%\n"
    }
   },
   "outputs": [
    {
     "data": {
      "text/plain": [
       "60045408268130177423608594336348013742565821832804429376264879499443504680549242418503841386337863256791805887192624500231002621982489698805641204951536357269529187259077697614145012363404669554888351931666398869873"
      ]
     },
     "execution_count": 16,
     "metadata": {},
     "output_type": "execute_result"
    }
   ],
   "source": [
    "w0 = remaining % q\n",
    "w0"
   ]
  },
  {
   "cell_type": "code",
   "execution_count": 17,
   "id": "e9f4d431",
   "metadata": {
    "pycharm": {
     "name": "#%%\n"
    }
   },
   "outputs": [
    {
     "data": {
      "text/plain": [
       "75673557460576065407459652391109371628762786311287409373858118858175665244440829125823964371320275184431579737083462476"
      ]
     },
     "execution_count": 17,
     "metadata": {},
     "output_type": "execute_result"
    }
   ],
   "source": [
    "w1 = remaining // q\n",
    "w1"
   ]
  },
  {
   "cell_type": "code",
   "execution_count": 18,
   "id": "ff530aef",
   "metadata": {
    "pycharm": {
     "name": "#%%\n"
    }
   },
   "outputs": [
    {
     "name": "stdout",
     "output_type": "stream",
     "text": [
      "0xd82919296f0a7971,\n",
      "0x65bce49832c64246,\n",
      "0x2809fcc715a307c3,\n",
      "0x79924dcb85423b9d,\n",
      "0x27f5da742baa9dcb,\n",
      "0x3504c83ef529d3af,\n",
      "0xa8d5811c0738978d,\n",
      "0xb89c4fae1b64c91e,\n",
      "0xf1599ba7cb125108,\n",
      "0xc897a682bb820626,\n",
      "0x72e92a88b33ab5b1,\n",
      "0x2c9\n"
     ]
    }
   ],
   "source": [
    "from textwrap import wrap\n",
    "print(str(',\\n').join(list(map(lambda x: '0x' + x[::-1], wrap(hex(w0)[2:][::-1], 16)))))"
   ]
  },
  {
   "cell_type": "code",
   "execution_count": 19,
   "id": "e3dcb610",
   "metadata": {
    "pycharm": {
     "name": "#%%\n"
    }
   },
   "outputs": [
    {
     "name": "stdout",
     "output_type": "stream",
     "text": [
      "0x8d430006e6ddc34c,\n",
      "0x67f4ddfa5857690e,\n",
      "0x1e2e5b97e341eebb,\n",
      "0xe788eb7f9b23c010,\n",
      "0x672d11ea9c117ff7,\n",
      "0x8d061dc4a92c459c,\n",
      "0x780\n"
     ]
    }
   ],
   "source": [
    "from textwrap import wrap\n",
    "print(str(',\\n').join(list(map(lambda x: '0x' + x[::-1], wrap(hex(w1)[2:][::-1], 16)))))\n"
   ]
  }
 ],
 "metadata": {
  "kernelspec": {
   "display_name": "SageMath 9.7",
   "language": "sage",
   "name": "sagemath-9.7"
  },
  "language_info": {
   "codemirror_mode": {
    "name": "ipython",
    "version": 3
   },
   "file_extension": ".py",
   "mimetype": "text/x-python",
   "name": "python",
   "nbconvert_exporter": "python",
   "pygments_lexer": "ipython3",
   "version": "3.10.5"
  }
 },
 "nbformat": 4,
 "nbformat_minor": 5
}
