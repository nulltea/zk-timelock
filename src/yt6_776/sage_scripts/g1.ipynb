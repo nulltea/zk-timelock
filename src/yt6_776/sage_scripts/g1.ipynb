{
 "cells": [
  {
   "cell_type": "code",
   "execution_count": 1,
   "id": "f890e69f",
   "metadata": {
    "pycharm": {
     "name": "#%%\n"
    }
   },
   "outputs": [],
   "source": [
    "q = 302876569457825540224058720088493814197684678175517897646382999490010176693949664027430922002605277999717929660119065492046541203055097398745672542166604177101118255582761412697357085679229754433270902868922720449830309670836412672963\n",
    "t = 556334928175811767685866265168019893274028091673155517508216967661521459911236919644960862098008653606888062617430745\n",
    "r = 4002409555221667393417789825735904156556882819939007885332058136124031650490837864442687629129015664037894272559787\n",
    "k = 6\n",
    "D = -3"
   ]
  },
  {
   "cell_type": "code",
   "execution_count": 2,
   "id": "91bec88f",
   "metadata": {
    "pycharm": {
     "name": "#%%\n"
    }
   },
   "outputs": [],
   "source": [
    "coeff_b = 93312\n",
    "E = EllipticCurve(GF(q), [0, 0, 0, 0, coeff_b])"
   ]
  },
  {
   "cell_type": "code",
   "execution_count": 13,
   "id": "391ecf70",
   "metadata": {
    "pycharm": {
     "name": "#%%\n"
    }
   },
   "outputs": [
    {
     "data": {
      "text/plain": [
       "302876569457825540224058720088493814197684678175517897646382999490010176693949664027430922002605277999717929660119064935711613027243329712879407374146710903073026582427243904480389424157769843196351257908060622441176702782773795242219"
      ]
     },
     "execution_count": 13,
     "metadata": {},
     "output_type": "execute_result"
    }
   ],
   "source": [
    "num_points = E.cardinality()\n",
    "num_points"
   ]
  },
  {
   "cell_type": "code",
   "execution_count": 14,
   "id": "b45244f7",
   "metadata": {
    "pycharm": {
     "name": "#%%\n"
    }
   },
   "outputs": [
    {
     "data": {
      "text/plain": [
       "302876569457825540224058720088493814197684678175517897646382999490010176693949664027430922002605277999717929660119064935711613027243329712879407374146710903073026582427243904480389424157769843196351257908060622441176702782773795242219"
      ]
     },
     "execution_count": 14,
     "metadata": {},
     "output_type": "execute_result"
    }
   ],
   "source": [
    "(q + 1 - t) "
   ]
  },
  {
   "cell_type": "code",
   "execution_count": 15,
   "id": "7cfce0fc",
   "metadata": {
    "pycharm": {
     "name": "#%%\n"
    },
    "scrolled": true
   },
   "outputs": [
    {
     "data": {
      "text/plain": [
       "75673557460576065407459652391109371628762786311287409373858118858175665244440829125823964371320275184431579737083462337"
      ]
     },
     "execution_count": 15,
     "metadata": {},
     "output_type": "execute_result"
    }
   ],
   "source": [
    "# this is the cofactor\n",
    "(q + 1 - t) // r"
   ]
  },
  {
   "cell_type": "code",
   "execution_count": 16,
   "id": "5500b240",
   "metadata": {
    "pycharm": {
     "name": "#%%\n"
    }
   },
   "outputs": [
    {
     "name": "stdout",
     "output_type": "stream",
     "text": [
      "0x8d430006e6ddc2c1,\n",
      "0x67f4ddfa5857690e,\n",
      "0x1e2e5b97e341eebb,\n",
      "0xe788eb7f9b23c010,\n",
      "0x672d11ea9c117ff7,\n",
      "0x8d061dc4a92c459c,\n",
      "0x780\n"
     ]
    }
   ],
   "source": [
    "from textwrap import wrap\n",
    "print(str(',\\n').join(list(map(lambda x: '0x' + x[::-1], wrap(hex((q + 1 - t) // r)[2:][::-1], 16)))))"
   ]
  },
  {
   "cell_type": "code",
   "execution_count": 17,
   "id": "feb7cf3f",
   "metadata": {
    "pycharm": {
     "name": "#%%\n"
    }
   },
   "outputs": [
    {
     "data": {
      "text/plain": [
       "2565203299949995746734759940387299613757915747179910827957223728085577644538928540655788142677924514759210122197706"
      ]
     },
     "execution_count": 17,
     "metadata": {},
     "output_type": "execute_result"
    }
   ],
   "source": [
    "pow((q + 1 - t) // r, -1, r)"
   ]
  },
  {
   "cell_type": "code",
   "execution_count": 23,
   "id": "aae2f8bf",
   "metadata": {
    "pycharm": {
     "name": "#%%\n"
    }
   },
   "outputs": [
    {
     "data": {
      "text/plain": [
       "83022966353075192081555803423176434629937481343878414368306061630903946707980033177937004130384305000343430506121328869181887471944304611133664106957583829514005100141284449350130644395617159724966246341093743304648781897149487562244"
      ]
     },
     "execution_count": 23,
     "metadata": {},
     "output_type": "execute_result"
    }
   ],
   "source": [
    "# find a point\n",
    "x_test = 2\n",
    "res_test = pow(x_test, 3) + coeff_b\n",
    "\n",
    "Mod(res_test, q).sqrt()"
   ]
  },
  {
   "cell_type": "code",
   "execution_count": 25,
   "id": "6a002ae5",
   "metadata": {
    "pycharm": {
     "name": "#%%\n"
    }
   },
   "outputs": [],
   "source": [
    "P = E(2, Mod(res_test, q).sqrt())"
   ]
  },
  {
   "cell_type": "code",
   "execution_count": 26,
   "id": "ea9a4d90",
   "metadata": {
    "pycharm": {
     "name": "#%%\n"
    }
   },
   "outputs": [
    {
     "data": {
      "text/plain": [
       "(108545833627835224615252200549986394471707629570503664929495882302743427640956001713553579749366437251076626120288509414819599006412906325609456608653396953194594283540673084157793498972066079810814809485341597964343439015227441050203 : 10529272290064874351863124024912628560560693496165751737543407179756413775156133888892505375124372206194508706936167279705039952684597368970401920353642335732148853052441093049645187818152992333452229705663761133250479165873859957194 : 1)"
      ]
     },
     "execution_count": 26,
     "metadata": {},
     "output_type": "execute_result"
    }
   ],
   "source": [
    "P2 = P * ((q + 1 - t) // r)\n",
    "P2"
   ]
  },
  {
   "cell_type": "code",
   "execution_count": 55,
   "id": "3499c817",
   "metadata": {
    "pycharm": {
     "name": "#%%\n"
    }
   },
   "outputs": [
    {
     "data": {
      "text/plain": [
       "(0 : 1 : 0)"
      ]
     },
     "execution_count": 55,
     "metadata": {},
     "output_type": "execute_result"
    }
   ],
   "source": [
    "P2 * r"
   ]
  }
 ],
 "metadata": {
  "kernelspec": {
   "display_name": "SageMath 9.7",
   "language": "sage",
   "name": "sagemath-9.7"
  },
  "language_info": {
   "codemirror_mode": {
    "name": "ipython",
    "version": 3
   },
   "file_extension": ".py",
   "mimetype": "text/x-python",
   "name": "python",
   "nbconvert_exporter": "python",
   "pygments_lexer": "ipython3",
   "version": "3.10.5"
  }
 },
 "nbformat": 4,
 "nbformat_minor": 5
}
